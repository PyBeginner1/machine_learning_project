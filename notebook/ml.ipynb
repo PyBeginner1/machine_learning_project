{
 "cells": [
  {
   "cell_type": "code",
   "execution_count": 1,
   "metadata": {},
   "outputs": [],
   "source": [
    "from collections import namedtuple"
   ]
  },
  {
   "cell_type": "markdown",
   "metadata": {},
   "source": [
    "namedtuple is used to name every elements in a tuple"
   ]
  },
  {
   "cell_type": "markdown",
   "metadata": {},
   "source": [
    "1. Download URL\n",
    "2. Mention a directory where the downloaded file will be stored(compressed file).\n",
    "3. Mention the directory where the extractyed file from 2 will be stored.(decompressed file)\n",
    "4. Train Dataset folder\n",
    "5. Test dataset folder"
   ]
  },
  {
   "cell_type": "code",
   "execution_count": 3,
   "metadata": {},
   "outputs": [],
   "source": [
    "#Config required to collect data\n",
    "DataIngestionConfig = namedtuple('DataIngestionConfig',\n",
    "['dataset_download_url','tgz_download_dir','raw_data_dir','ingested_train_dir',\n",
    "    'ingested_test_dir'])"
   ]
  },
  {
   "cell_type": "code",
   "execution_count": null,
   "metadata": {},
   "outputs": [],
   "source": [
    "DataIngestionConfig()"
   ]
  }
 ],
 "metadata": {
  "kernelspec": {
   "display_name": "Python 3.7.0 (conda)",
   "language": "python",
   "name": "python3"
  },
  "language_info": {
   "codemirror_mode": {
    "name": "ipython",
    "version": 3
   },
   "file_extension": ".py",
   "mimetype": "text/x-python",
   "name": "python",
   "nbconvert_exporter": "python",
   "pygments_lexer": "ipython3",
   "version": "3.7.0"
  },
  "orig_nbformat": 4,
  "vscode": {
   "interpreter": {
    "hash": "126f42762e5af1c1e0fcf0920dd5395f1ec4e6b64558b741fb680b4506e1e2d6"
   }
  }
 },
 "nbformat": 4,
 "nbformat_minor": 2
}
