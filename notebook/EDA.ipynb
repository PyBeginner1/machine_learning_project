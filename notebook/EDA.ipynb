{
 "cells": [
  {
   "cell_type": "code",
   "execution_count": 71,
   "metadata": {},
   "outputs": [],
   "source": [
    "train_file_path = r'D:\\iNeuron\\Complete Project\\CI-CD Pipeline\\machine_learning_project\\housing\\artifact\\data_ingestion\\2022-11-28-16-30-19\\ingested_data\\train\\housing.csv'\n",
    "test_file_path = r'D:\\iNeuron\\Complete Project\\CI-CD Pipeline\\machine_learning_project\\housing\\artifact\\data_ingestion\\2022-11-28-16-30-19\\ingested_data\\test\\housing.csv'"
   ]
  },
  {
   "cell_type": "code",
   "execution_count": 2,
   "metadata": {},
   "outputs": [],
   "source": [
    "import pandas as pd"
   ]
  },
  {
   "cell_type": "code",
   "execution_count": 4,
   "metadata": {},
   "outputs": [
    {
     "data": {
      "text/html": [
       "<div>\n",
       "<style scoped>\n",
       "    .dataframe tbody tr th:only-of-type {\n",
       "        vertical-align: middle;\n",
       "    }\n",
       "\n",
       "    .dataframe tbody tr th {\n",
       "        vertical-align: top;\n",
       "    }\n",
       "\n",
       "    .dataframe thead th {\n",
       "        text-align: right;\n",
       "    }\n",
       "</style>\n",
       "<table border=\"1\" class=\"dataframe\">\n",
       "  <thead>\n",
       "    <tr style=\"text-align: right;\">\n",
       "      <th></th>\n",
       "      <th>Unnamed: 0</th>\n",
       "      <th>longitude</th>\n",
       "      <th>latitude</th>\n",
       "      <th>housing_median_age</th>\n",
       "      <th>total_rooms</th>\n",
       "      <th>total_bedrooms</th>\n",
       "      <th>population</th>\n",
       "      <th>households</th>\n",
       "      <th>median_income</th>\n",
       "      <th>median_house_value</th>\n",
       "      <th>ocean_proximity</th>\n",
       "    </tr>\n",
       "  </thead>\n",
       "  <tbody>\n",
       "    <tr>\n",
       "      <th>0</th>\n",
       "      <td>2944</td>\n",
       "      <td>-118.95</td>\n",
       "      <td>35.32</td>\n",
       "      <td>29.0</td>\n",
       "      <td>3480.0</td>\n",
       "      <td>608.0</td>\n",
       "      <td>2007.0</td>\n",
       "      <td>541.0</td>\n",
       "      <td>3.2738</td>\n",
       "      <td>78700.0</td>\n",
       "      <td>INLAND</td>\n",
       "    </tr>\n",
       "    <tr>\n",
       "      <th>1</th>\n",
       "      <td>1561</td>\n",
       "      <td>-121.96</td>\n",
       "      <td>37.76</td>\n",
       "      <td>8.0</td>\n",
       "      <td>3865.0</td>\n",
       "      <td>463.0</td>\n",
       "      <td>1548.0</td>\n",
       "      <td>432.0</td>\n",
       "      <td>9.7037</td>\n",
       "      <td>425100.0</td>\n",
       "      <td>&lt;1H OCEAN</td>\n",
       "    </tr>\n",
       "    <tr>\n",
       "      <th>2</th>\n",
       "      <td>15562</td>\n",
       "      <td>-116.97</td>\n",
       "      <td>33.13</td>\n",
       "      <td>10.0</td>\n",
       "      <td>5149.0</td>\n",
       "      <td>851.0</td>\n",
       "      <td>2177.0</td>\n",
       "      <td>783.0</td>\n",
       "      <td>6.7957</td>\n",
       "      <td>287500.0</td>\n",
       "      <td>&lt;1H OCEAN</td>\n",
       "    </tr>\n",
       "    <tr>\n",
       "      <th>3</th>\n",
       "      <td>968</td>\n",
       "      <td>-121.88</td>\n",
       "      <td>37.67</td>\n",
       "      <td>25.0</td>\n",
       "      <td>2244.0</td>\n",
       "      <td>301.0</td>\n",
       "      <td>937.0</td>\n",
       "      <td>324.0</td>\n",
       "      <td>6.4524</td>\n",
       "      <td>296900.0</td>\n",
       "      <td>INLAND</td>\n",
       "    </tr>\n",
       "    <tr>\n",
       "      <th>4</th>\n",
       "      <td>20514</td>\n",
       "      <td>-121.52</td>\n",
       "      <td>38.58</td>\n",
       "      <td>24.0</td>\n",
       "      <td>938.0</td>\n",
       "      <td>275.0</td>\n",
       "      <td>508.0</td>\n",
       "      <td>253.0</td>\n",
       "      <td>1.6420</td>\n",
       "      <td>32500.0</td>\n",
       "      <td>INLAND</td>\n",
       "    </tr>\n",
       "  </tbody>\n",
       "</table>\n",
       "</div>"
      ],
      "text/plain": [
       "   Unnamed: 0  longitude  latitude  housing_median_age  total_rooms  \\\n",
       "0        2944    -118.95     35.32                29.0       3480.0   \n",
       "1        1561    -121.96     37.76                 8.0       3865.0   \n",
       "2       15562    -116.97     33.13                10.0       5149.0   \n",
       "3         968    -121.88     37.67                25.0       2244.0   \n",
       "4       20514    -121.52     38.58                24.0        938.0   \n",
       "\n",
       "   total_bedrooms  population  households  median_income  median_house_value  \\\n",
       "0           608.0      2007.0       541.0         3.2738             78700.0   \n",
       "1           463.0      1548.0       432.0         9.7037            425100.0   \n",
       "2           851.0      2177.0       783.0         6.7957            287500.0   \n",
       "3           301.0       937.0       324.0         6.4524            296900.0   \n",
       "4           275.0       508.0       253.0         1.6420             32500.0   \n",
       "\n",
       "  ocean_proximity  \n",
       "0          INLAND  \n",
       "1       <1H OCEAN  \n",
       "2       <1H OCEAN  \n",
       "3          INLAND  \n",
       "4          INLAND  "
      ]
     },
     "execution_count": 4,
     "metadata": {},
     "output_type": "execute_result"
    }
   ],
   "source": [
    "df = pd.read_csv(train_file_path)\n",
    "df.head()"
   ]
  },
  {
   "cell_type": "code",
   "execution_count": 5,
   "metadata": {},
   "outputs": [
    {
     "data": {
      "text/plain": [
       "0         78700.0\n",
       "1        425100.0\n",
       "2        287500.0\n",
       "3        296900.0\n",
       "4         32500.0\n",
       "           ...   \n",
       "16507    236400.0\n",
       "16508    141300.0\n",
       "16509    249300.0\n",
       "16510    209200.0\n",
       "16511    302200.0\n",
       "Name: median_house_value, Length: 16512, dtype: float64"
      ]
     },
     "execution_count": 5,
     "metadata": {},
     "output_type": "execute_result"
    }
   ],
   "source": [
    "df['median_house_value']"
   ]
  },
  {
   "cell_type": "code",
   "execution_count": 7,
   "metadata": {},
   "outputs": [],
   "source": [
    "X = df.drop('median_house_value',axis = 1)\n",
    "y = df['median_house_value']"
   ]
  },
  {
   "cell_type": "code",
   "execution_count": 10,
   "metadata": {},
   "outputs": [
    {
     "data": {
      "text/html": [
       "<div>\n",
       "<style scoped>\n",
       "    .dataframe tbody tr th:only-of-type {\n",
       "        vertical-align: middle;\n",
       "    }\n",
       "\n",
       "    .dataframe tbody tr th {\n",
       "        vertical-align: top;\n",
       "    }\n",
       "\n",
       "    .dataframe thead th {\n",
       "        text-align: right;\n",
       "    }\n",
       "</style>\n",
       "<table border=\"1\" class=\"dataframe\">\n",
       "  <thead>\n",
       "    <tr style=\"text-align: right;\">\n",
       "      <th></th>\n",
       "      <th>Unnamed: 0</th>\n",
       "      <th>longitude</th>\n",
       "      <th>latitude</th>\n",
       "      <th>housing_median_age</th>\n",
       "      <th>total_rooms</th>\n",
       "      <th>total_bedrooms</th>\n",
       "      <th>population</th>\n",
       "      <th>households</th>\n",
       "      <th>median_income</th>\n",
       "      <th>ocean_proximity</th>\n",
       "    </tr>\n",
       "  </thead>\n",
       "  <tbody>\n",
       "    <tr>\n",
       "      <th>0</th>\n",
       "      <td>2944</td>\n",
       "      <td>-118.95</td>\n",
       "      <td>35.32</td>\n",
       "      <td>29.0</td>\n",
       "      <td>3480.0</td>\n",
       "      <td>608.0</td>\n",
       "      <td>2007.0</td>\n",
       "      <td>541.0</td>\n",
       "      <td>3.2738</td>\n",
       "      <td>INLAND</td>\n",
       "    </tr>\n",
       "    <tr>\n",
       "      <th>1</th>\n",
       "      <td>1561</td>\n",
       "      <td>-121.96</td>\n",
       "      <td>37.76</td>\n",
       "      <td>8.0</td>\n",
       "      <td>3865.0</td>\n",
       "      <td>463.0</td>\n",
       "      <td>1548.0</td>\n",
       "      <td>432.0</td>\n",
       "      <td>9.7037</td>\n",
       "      <td>&lt;1H OCEAN</td>\n",
       "    </tr>\n",
       "    <tr>\n",
       "      <th>2</th>\n",
       "      <td>15562</td>\n",
       "      <td>-116.97</td>\n",
       "      <td>33.13</td>\n",
       "      <td>10.0</td>\n",
       "      <td>5149.0</td>\n",
       "      <td>851.0</td>\n",
       "      <td>2177.0</td>\n",
       "      <td>783.0</td>\n",
       "      <td>6.7957</td>\n",
       "      <td>&lt;1H OCEAN</td>\n",
       "    </tr>\n",
       "    <tr>\n",
       "      <th>3</th>\n",
       "      <td>968</td>\n",
       "      <td>-121.88</td>\n",
       "      <td>37.67</td>\n",
       "      <td>25.0</td>\n",
       "      <td>2244.0</td>\n",
       "      <td>301.0</td>\n",
       "      <td>937.0</td>\n",
       "      <td>324.0</td>\n",
       "      <td>6.4524</td>\n",
       "      <td>INLAND</td>\n",
       "    </tr>\n",
       "    <tr>\n",
       "      <th>4</th>\n",
       "      <td>20514</td>\n",
       "      <td>-121.52</td>\n",
       "      <td>38.58</td>\n",
       "      <td>24.0</td>\n",
       "      <td>938.0</td>\n",
       "      <td>275.0</td>\n",
       "      <td>508.0</td>\n",
       "      <td>253.0</td>\n",
       "      <td>1.6420</td>\n",
       "      <td>INLAND</td>\n",
       "    </tr>\n",
       "  </tbody>\n",
       "</table>\n",
       "</div>"
      ],
      "text/plain": [
       "   Unnamed: 0  longitude  latitude  housing_median_age  total_rooms  \\\n",
       "0        2944    -118.95     35.32                29.0       3480.0   \n",
       "1        1561    -121.96     37.76                 8.0       3865.0   \n",
       "2       15562    -116.97     33.13                10.0       5149.0   \n",
       "3         968    -121.88     37.67                25.0       2244.0   \n",
       "4       20514    -121.52     38.58                24.0        938.0   \n",
       "\n",
       "   total_bedrooms  population  households  median_income ocean_proximity  \n",
       "0           608.0      2007.0       541.0         3.2738          INLAND  \n",
       "1           463.0      1548.0       432.0         9.7037       <1H OCEAN  \n",
       "2           851.0      2177.0       783.0         6.7957       <1H OCEAN  \n",
       "3           301.0       937.0       324.0         6.4524          INLAND  \n",
       "4           275.0       508.0       253.0         1.6420          INLAND  "
      ]
     },
     "execution_count": 10,
     "metadata": {},
     "output_type": "execute_result"
    }
   ],
   "source": [
    "X.head()"
   ]
  },
  {
   "cell_type": "code",
   "execution_count": 11,
   "metadata": {},
   "outputs": [
    {
     "data": {
      "text/plain": [
       "0     78700.0\n",
       "1    425100.0\n",
       "2    287500.0\n",
       "3    296900.0\n",
       "4     32500.0\n",
       "Name: median_house_value, dtype: float64"
      ]
     },
     "execution_count": 11,
     "metadata": {},
     "output_type": "execute_result"
    }
   ],
   "source": [
    "y.head()"
   ]
  },
  {
   "cell_type": "code",
   "execution_count": 13,
   "metadata": {},
   "outputs": [
    {
     "data": {
      "text/plain": [
       "(16512, 11)"
      ]
     },
     "execution_count": 13,
     "metadata": {},
     "output_type": "execute_result"
    }
   ],
   "source": [
    "df.shape"
   ]
  },
  {
   "cell_type": "code",
   "execution_count": 14,
   "metadata": {},
   "outputs": [
    {
     "data": {
      "text/plain": [
       "Unnamed: 0              0\n",
       "longitude               0\n",
       "latitude                0\n",
       "housing_median_age      0\n",
       "total_rooms             0\n",
       "total_bedrooms        170\n",
       "population              0\n",
       "households              0\n",
       "median_income           0\n",
       "ocean_proximity         0\n",
       "dtype: int64"
      ]
     },
     "execution_count": 14,
     "metadata": {},
     "output_type": "execute_result"
    }
   ],
   "source": [
    "X.isna().sum()"
   ]
  },
  {
   "cell_type": "code",
   "execution_count": 16,
   "metadata": {},
   "outputs": [],
   "source": [
    "import seaborn as sns"
   ]
  },
  {
   "cell_type": "code",
   "execution_count": 18,
   "metadata": {},
   "outputs": [
    {
     "data": {
      "text/plain": [
       "<AxesSubplot:>"
      ]
     },
     "execution_count": 18,
     "metadata": {},
     "output_type": "execute_result"
    },
    {
     "data": {
      "image/png": "[encoded data removed]",
      "text/plain": [
       "<Figure size 640x480 with 1 Axes>"
      ]
     },
     "metadata": {},
     "output_type": "display_data"
    }
   ],
   "source": [
    "sns.boxplot(X['total_bedrooms'])"
   ]
  },
  {
   "cell_type": "code",
   "execution_count": 19,
   "metadata": {},
   "outputs": [],
   "source": [
    "from sklearn.impute import SimpleImputer"
   ]
  },
  {
   "cell_type": "code",
   "execution_count": 23,
   "metadata": {},
   "outputs": [],
   "source": [
    "simple_imputer = SimpleImputer(strategy='median')"
   ]
  },
  {
   "cell_type": "code",
   "execution_count": 24,
   "metadata": {},
   "outputs": [
    {
     "data": {
      "text/html": [
       "<div>\n",
       "<style scoped>\n",
       "    .dataframe tbody tr th:only-of-type {\n",
       "        vertical-align: middle;\n",
       "    }\n",
       "\n",
       "    .dataframe tbody tr th {\n",
       "        vertical-align: top;\n",
       "    }\n",
       "\n",
       "    .dataframe thead th {\n",
       "        text-align: right;\n",
       "    }\n",
       "</style>\n",
       "<table border=\"1\" class=\"dataframe\">\n",
       "  <thead>\n",
       "    <tr style=\"text-align: right;\">\n",
       "      <th></th>\n",
       "      <th>Unnamed: 0</th>\n",
       "      <th>longitude</th>\n",
       "      <th>latitude</th>\n",
       "      <th>housing_median_age</th>\n",
       "      <th>total_rooms</th>\n",
       "      <th>total_bedrooms</th>\n",
       "      <th>population</th>\n",
       "      <th>households</th>\n",
       "      <th>median_income</th>\n",
       "    </tr>\n",
       "  </thead>\n",
       "  <tbody>\n",
       "    <tr>\n",
       "      <th>0</th>\n",
       "      <td>2944</td>\n",
       "      <td>-118.95</td>\n",
       "      <td>35.32</td>\n",
       "      <td>29.0</td>\n",
       "      <td>3480.0</td>\n",
       "      <td>608.0</td>\n",
       "      <td>2007.0</td>\n",
       "      <td>541.0</td>\n",
       "      <td>3.2738</td>\n",
       "    </tr>\n",
       "    <tr>\n",
       "      <th>1</th>\n",
       "      <td>1561</td>\n",
       "      <td>-121.96</td>\n",
       "      <td>37.76</td>\n",
       "      <td>8.0</td>\n",
       "      <td>3865.0</td>\n",
       "      <td>463.0</td>\n",
       "      <td>1548.0</td>\n",
       "      <td>432.0</td>\n",
       "      <td>9.7037</td>\n",
       "    </tr>\n",
       "    <tr>\n",
       "      <th>2</th>\n",
       "      <td>15562</td>\n",
       "      <td>-116.97</td>\n",
       "      <td>33.13</td>\n",
       "      <td>10.0</td>\n",
       "      <td>5149.0</td>\n",
       "      <td>851.0</td>\n",
       "      <td>2177.0</td>\n",
       "      <td>783.0</td>\n",
       "      <td>6.7957</td>\n",
       "    </tr>\n",
       "    <tr>\n",
       "      <th>3</th>\n",
       "      <td>968</td>\n",
       "      <td>-121.88</td>\n",
       "      <td>37.67</td>\n",
       "      <td>25.0</td>\n",
       "      <td>2244.0</td>\n",
       "      <td>301.0</td>\n",
       "      <td>937.0</td>\n",
       "      <td>324.0</td>\n",
       "      <td>6.4524</td>\n",
       "    </tr>\n",
       "    <tr>\n",
       "      <th>4</th>\n",
       "      <td>20514</td>\n",
       "      <td>-121.52</td>\n",
       "      <td>38.58</td>\n",
       "      <td>24.0</td>\n",
       "      <td>938.0</td>\n",
       "      <td>275.0</td>\n",
       "      <td>508.0</td>\n",
       "      <td>253.0</td>\n",
       "      <td>1.6420</td>\n",
       "    </tr>\n",
       "  </tbody>\n",
       "</table>\n",
       "</div>"
      ],
      "text/plain": [
       "   Unnamed: 0  longitude  latitude  housing_median_age  total_rooms  \\\n",
       "0        2944    -118.95     35.32                29.0       3480.0   \n",
       "1        1561    -121.96     37.76                 8.0       3865.0   \n",
       "2       15562    -116.97     33.13                10.0       5149.0   \n",
       "3         968    -121.88     37.67                25.0       2244.0   \n",
       "4       20514    -121.52     38.58                24.0        938.0   \n",
       "\n",
       "   total_bedrooms  population  households  median_income  \n",
       "0           608.0      2007.0       541.0         3.2738  \n",
       "1           463.0      1548.0       432.0         9.7037  \n",
       "2           851.0      2177.0       783.0         6.7957  \n",
       "3           301.0       937.0       324.0         6.4524  \n",
       "4           275.0       508.0       253.0         1.6420  "
      ]
     },
     "execution_count": 24,
     "metadata": {},
     "output_type": "execute_result"
    }
   ],
   "source": [
    "numerical_columns = X.drop('ocean_proximity', axis = 1)\n",
    "numerical_columns.head()"
   ]
  },
  {
   "cell_type": "code",
   "execution_count": 31,
   "metadata": {},
   "outputs": [
    {
     "data": {
      "text/html": [
       "<div>\n",
       "<style scoped>\n",
       "    .dataframe tbody tr th:only-of-type {\n",
       "        vertical-align: middle;\n",
       "    }\n",
       "\n",
       "    .dataframe tbody tr th {\n",
       "        vertical-align: top;\n",
       "    }\n",
       "\n",
       "    .dataframe thead th {\n",
       "        text-align: right;\n",
       "    }\n",
       "</style>\n",
       "<table border=\"1\" class=\"dataframe\">\n",
       "  <thead>\n",
       "    <tr style=\"text-align: right;\">\n",
       "      <th></th>\n",
       "      <th>Unnamed: 0</th>\n",
       "      <th>longitude</th>\n",
       "      <th>latitude</th>\n",
       "      <th>housing_median_age</th>\n",
       "      <th>total_rooms</th>\n",
       "      <th>total_bedrooms</th>\n",
       "      <th>population</th>\n",
       "      <th>households</th>\n",
       "      <th>median_income</th>\n",
       "    </tr>\n",
       "  </thead>\n",
       "  <tbody>\n",
       "    <tr>\n",
       "      <th>0</th>\n",
       "      <td>2944.0</td>\n",
       "      <td>-118.95</td>\n",
       "      <td>35.32</td>\n",
       "      <td>29.0</td>\n",
       "      <td>3480.0</td>\n",
       "      <td>608.0</td>\n",
       "      <td>2007.0</td>\n",
       "      <td>541.0</td>\n",
       "      <td>3.2738</td>\n",
       "    </tr>\n",
       "    <tr>\n",
       "      <th>1</th>\n",
       "      <td>1561.0</td>\n",
       "      <td>-121.96</td>\n",
       "      <td>37.76</td>\n",
       "      <td>8.0</td>\n",
       "      <td>3865.0</td>\n",
       "      <td>463.0</td>\n",
       "      <td>1548.0</td>\n",
       "      <td>432.0</td>\n",
       "      <td>9.7037</td>\n",
       "    </tr>\n",
       "    <tr>\n",
       "      <th>2</th>\n",
       "      <td>15562.0</td>\n",
       "      <td>-116.97</td>\n",
       "      <td>33.13</td>\n",
       "      <td>10.0</td>\n",
       "      <td>5149.0</td>\n",
       "      <td>851.0</td>\n",
       "      <td>2177.0</td>\n",
       "      <td>783.0</td>\n",
       "      <td>6.7957</td>\n",
       "    </tr>\n",
       "    <tr>\n",
       "      <th>3</th>\n",
       "      <td>968.0</td>\n",
       "      <td>-121.88</td>\n",
       "      <td>37.67</td>\n",
       "      <td>25.0</td>\n",
       "      <td>2244.0</td>\n",
       "      <td>301.0</td>\n",
       "      <td>937.0</td>\n",
       "      <td>324.0</td>\n",
       "      <td>6.4524</td>\n",
       "    </tr>\n",
       "    <tr>\n",
       "      <th>4</th>\n",
       "      <td>20514.0</td>\n",
       "      <td>-121.52</td>\n",
       "      <td>38.58</td>\n",
       "      <td>24.0</td>\n",
       "      <td>938.0</td>\n",
       "      <td>275.0</td>\n",
       "      <td>508.0</td>\n",
       "      <td>253.0</td>\n",
       "      <td>1.6420</td>\n",
       "    </tr>\n",
       "    <tr>\n",
       "      <th>...</th>\n",
       "      <td>...</td>\n",
       "      <td>...</td>\n",
       "      <td>...</td>\n",
       "      <td>...</td>\n",
       "      <td>...</td>\n",
       "      <td>...</td>\n",
       "      <td>...</td>\n",
       "      <td>...</td>\n",
       "      <td>...</td>\n",
       "    </tr>\n",
       "    <tr>\n",
       "      <th>16507</th>\n",
       "      <td>6864.0</td>\n",
       "      <td>-118.14</td>\n",
       "      <td>34.05</td>\n",
       "      <td>39.0</td>\n",
       "      <td>1880.0</td>\n",
       "      <td>367.0</td>\n",
       "      <td>954.0</td>\n",
       "      <td>349.0</td>\n",
       "      <td>3.8750</td>\n",
       "    </tr>\n",
       "    <tr>\n",
       "      <th>16508</th>\n",
       "      <td>11833.0</td>\n",
       "      <td>-120.18</td>\n",
       "      <td>39.28</td>\n",
       "      <td>14.0</td>\n",
       "      <td>10098.0</td>\n",
       "      <td>1545.0</td>\n",
       "      <td>701.0</td>\n",
       "      <td>254.0</td>\n",
       "      <td>4.0819</td>\n",
       "    </tr>\n",
       "    <tr>\n",
       "      <th>16509</th>\n",
       "      <td>17450.0</td>\n",
       "      <td>-120.45</td>\n",
       "      <td>34.71</td>\n",
       "      <td>21.0</td>\n",
       "      <td>1868.0</td>\n",
       "      <td>268.0</td>\n",
       "      <td>522.0</td>\n",
       "      <td>255.0</td>\n",
       "      <td>6.4678</td>\n",
       "    </tr>\n",
       "    <tr>\n",
       "      <th>16510</th>\n",
       "      <td>5950.0</td>\n",
       "      <td>-117.87</td>\n",
       "      <td>34.14</td>\n",
       "      <td>30.0</td>\n",
       "      <td>2495.0</td>\n",
       "      <td>586.0</td>\n",
       "      <td>1139.0</td>\n",
       "      <td>559.0</td>\n",
       "      <td>2.9375</td>\n",
       "    </tr>\n",
       "    <tr>\n",
       "      <th>16511</th>\n",
       "      <td>6337.0</td>\n",
       "      <td>-117.96</td>\n",
       "      <td>33.98</td>\n",
       "      <td>25.0</td>\n",
       "      <td>1259.0</td>\n",
       "      <td>184.0</td>\n",
       "      <td>599.0</td>\n",
       "      <td>170.0</td>\n",
       "      <td>5.7407</td>\n",
       "    </tr>\n",
       "  </tbody>\n",
       "</table>\n",
       "<p>16512 rows × 9 columns</p>\n",
       "</div>"
      ],
      "text/plain": [
       "       Unnamed: 0  longitude  latitude  housing_median_age  total_rooms  \\\n",
       "0          2944.0    -118.95     35.32                29.0       3480.0   \n",
       "1          1561.0    -121.96     37.76                 8.0       3865.0   \n",
       "2         15562.0    -116.97     33.13                10.0       5149.0   \n",
       "3           968.0    -121.88     37.67                25.0       2244.0   \n",
       "4         20514.0    -121.52     38.58                24.0        938.0   \n",
       "...           ...        ...       ...                 ...          ...   \n",
       "16507      6864.0    -118.14     34.05                39.0       1880.0   \n",
       "16508     11833.0    -120.18     39.28                14.0      10098.0   \n",
       "16509     17450.0    -120.45     34.71                21.0       1868.0   \n",
       "16510      5950.0    -117.87     34.14                30.0       2495.0   \n",
       "16511      6337.0    -117.96     33.98                25.0       1259.0   \n",
       "\n",
       "       total_bedrooms  population  households  median_income  \n",
       "0               608.0      2007.0       541.0         3.2738  \n",
       "1               463.0      1548.0       432.0         9.7037  \n",
       "2               851.0      2177.0       783.0         6.7957  \n",
       "3               301.0       937.0       324.0         6.4524  \n",
       "4               275.0       508.0       253.0         1.6420  \n",
       "...               ...         ...         ...            ...  \n",
       "16507           367.0       954.0       349.0         3.8750  \n",
       "16508          1545.0       701.0       254.0         4.0819  \n",
       "16509           268.0       522.0       255.0         6.4678  \n",
       "16510           586.0      1139.0       559.0         2.9375  \n",
       "16511           184.0       599.0       170.0         5.7407  \n",
       "\n",
       "[16512 rows x 9 columns]"
      ]
     },
     "execution_count": 31,
     "metadata": {},
     "output_type": "execute_result"
    }
   ],
   "source": [
    "pd.DataFrame(simple_imputer.fit_transform(numerical_columns), columns = numerical_columns.columns)"
   ]
  },
  {
   "cell_type": "code",
   "execution_count": 32,
   "metadata": {},
   "outputs": [
    {
     "data": {
      "text/plain": [
       "Index(['Unnamed: 0', 'longitude', 'latitude', 'housing_median_age',\n",
       "       'total_rooms', 'total_bedrooms', 'population', 'households',\n",
       "       'median_income'],\n",
       "      dtype='object')"
      ]
     },
     "execution_count": 32,
     "metadata": {},
     "output_type": "execute_result"
    }
   ],
   "source": [
    "numerical_columns.columns"
   ]
  },
  {
   "cell_type": "code",
   "execution_count": 34,
   "metadata": {},
   "outputs": [
    {
     "data": {
      "text/plain": [
       "Unnamed: 0            0\n",
       "longitude             0\n",
       "latitude              0\n",
       "housing_median_age    0\n",
       "total_rooms           0\n",
       "total_bedrooms        0\n",
       "population            0\n",
       "households            0\n",
       "median_income         0\n",
       "dtype: int64"
      ]
     },
     "execution_count": 34,
     "metadata": {},
     "output_type": "execute_result"
    }
   ],
   "source": [
    "(pd.DataFrame(simple_imputer.fit_transform(numerical_columns), columns = numerical_columns.columns)).isna().sum()"
   ]
  },
  {
   "cell_type": "code",
   "execution_count": 35,
   "metadata": {},
   "outputs": [
    {
     "data": {
      "text/plain": [
       "array([ 1.02975e+04, -1.18490e+02,  3.42600e+01,  2.90000e+01,\n",
       "        2.12100e+03,  4.34000e+02,  1.16300e+03,  4.08000e+02,\n",
       "        3.53715e+00])"
      ]
     },
     "execution_count": 35,
     "metadata": {},
     "output_type": "execute_result"
    }
   ],
   "source": [
    "simple_imputer.statistics_"
   ]
  },
  {
   "cell_type": "code",
   "execution_count": 37,
   "metadata": {},
   "outputs": [
    {
     "data": {
      "text/plain": [
       "Index(['Unnamed: 0', 'longitude', 'latitude', 'housing_median_age',\n",
       "       'total_rooms', 'total_bedrooms', 'population', 'households',\n",
       "       'median_income', 'median_house_value', 'ocean_proximity'],\n",
       "      dtype='object')"
      ]
     },
     "execution_count": 37,
     "metadata": {},
     "output_type": "execute_result"
    }
   ],
   "source": [
    "df.columns "
   ]
  },
  {
   "cell_type": "code",
   "execution_count": 39,
   "metadata": {},
   "outputs": [
    {
     "data": {
      "text/plain": [
       "0         6.432532\n",
       "1         8.946759\n",
       "2         6.575990\n",
       "3         6.925926\n",
       "4         3.707510\n",
       "           ...    \n",
       "16507     5.386819\n",
       "16508    39.755906\n",
       "16509     7.325490\n",
       "16510     4.463327\n",
       "16511     7.405882\n",
       "Length: 16512, dtype: float64"
      ]
     },
     "execution_count": 39,
     "metadata": {},
     "output_type": "execute_result"
    }
   ],
   "source": [
    "room_per_house = df['total_rooms']/df['households']\n",
    "room_per_house"
   ]
  },
  {
   "cell_type": "code",
   "execution_count": 53,
   "metadata": {},
   "outputs": [
    {
     "data": {
      "text/plain": [
       "Index(['Unnamed: 0', 'longitude', 'latitude', 'housing_median_age',\n",
       "       'total_rooms', 'total_bedrooms', 'population', 'households',\n",
       "       'median_income', 'median_house_value', 'ocean_proximity'],\n",
       "      dtype='object')"
      ]
     },
     "execution_count": 53,
     "metadata": {},
     "output_type": "execute_result"
    }
   ],
   "source": [
    "df.columns"
   ]
  },
  {
   "cell_type": "code",
   "execution_count": 59,
   "metadata": {},
   "outputs": [],
   "source": [
    "from sklearn.pipeline import Pipeline \n",
    "from sklearn.compose import ColumnTransformer\n",
    "from sklearn.preprocessing import StandardScaler, OneHotEncoder\n",
    "from sklearn.base import BaseEstimator,TransformerMixin"
   ]
  },
  {
   "cell_type": "code",
   "execution_count": 54,
   "metadata": {},
   "outputs": [],
   "source": [
    "COLUMN_TOTAL_ROOMS = df['total_rooms']\n",
    "COLUMN_POPULATION = df['population']\n",
    "COLUMN_HOUSEHOLDS = df['households']\n",
    "COLUMN_TOTAL_BEDROOM = df['total_bedrooms']\n",
    "\n",
    "class FeatureGenerator(BaseEstimator, TransformerMixin):\n",
    "\n",
    "    def __init__(self, add_bedrooms_per_room=True,\n",
    "                 total_rooms_ix=3,\n",
    "                 population_ix=5,\n",
    "                 households_ix=6,\n",
    "                 total_bedrooms_ix=4, columns=None):\n",
    "        \"\"\"\n",
    "        FeatureGenerator Initialization\n",
    "        add_bedrooms_per_room: bool\n",
    "        total_rooms_ix: int index number of total rooms columns\n",
    "        population_ix: int index number of total population columns\n",
    "        households_ix: int index number of  households columns\n",
    "        total_bedrooms_ix: int index number of bedrooms columns\n",
    "        \"\"\"\n",
    "        try:\n",
    "            self.columns = columns\n",
    "            if self.columns is not None:\n",
    "                total_rooms_ix = self.columns.index(COLUMN_TOTAL_ROOMS)\n",
    "                population_ix = self.columns.index(COLUMN_POPULATION)\n",
    "                households_ix = self.columns.index(COLUMN_HOUSEHOLDS)\n",
    "                total_bedrooms_ix = self.columns.index(COLUMN_TOTAL_BEDROOM)\n",
    "\n",
    "            self.add_bedrooms_per_room = add_bedrooms_per_room\n",
    "            self.total_rooms_ix = total_rooms_ix\n",
    "            self.population_ix = population_ix\n",
    "            self.households_ix = households_ix\n",
    "            self.total_bedrooms_ix = total_bedrooms_ix\n",
    "        except Exception as e:\n",
    "            raise e"
   ]
  },
  {
   "cell_type": "code",
   "execution_count": 56,
   "metadata": {},
   "outputs": [],
   "source": [
    "num_pipeline = Pipeline(steps = [\n",
    "    ('imputer',SimpleImputer(strategy='median')),\n",
    "    ('scaling', StandardScaler())\n",
    "])"
   ]
  },
  {
   "cell_type": "code",
   "execution_count": 60,
   "metadata": {},
   "outputs": [],
   "source": [
    "cat_pipeline = Pipeline(steps = [\n",
    "    ('imputer',SimpleImputer(strategy = 'most_frequent')),\n",
    "    ('oneHotEncoder',OneHotEncoder())\n",
    "])"
   ]
  },
  {
   "cell_type": "code",
   "execution_count": 61,
   "metadata": {},
   "outputs": [
    {
     "data": {
      "text/plain": [
       "Index(['Unnamed: 0', 'longitude', 'latitude', 'housing_median_age',\n",
       "       'total_rooms', 'total_bedrooms', 'population', 'households',\n",
       "       'median_income', 'median_house_value', 'ocean_proximity'],\n",
       "      dtype='object')"
      ]
     },
     "execution_count": 61,
     "metadata": {},
     "output_type": "execute_result"
    }
   ],
   "source": [
    "df.columns "
   ]
  },
  {
   "cell_type": "code",
   "execution_count": 62,
   "metadata": {},
   "outputs": [],
   "source": [
    "num_columns = ['longitude', 'latitude', 'housing_median_age',\n",
    "       'total_rooms', 'total_bedrooms', 'population', 'households',\n",
    "       'median_income']\n",
    "\n",
    "cat_columns = ['ocean_proximity']"
   ]
  },
  {
   "cell_type": "code",
   "execution_count": 64,
   "metadata": {},
   "outputs": [],
   "source": [
    "preprocessing = ColumnTransformer([\n",
    "    ('numerical_pipeline',num_pipeline,num_columns),\n",
    "    ('categorical_pipeline',cat_pipeline,cat_columns)\n",
    "])"
   ]
  },
  {
   "cell_type": "code",
   "execution_count": 69,
   "metadata": {},
   "outputs": [
    {
     "data": {
      "text/plain": [
       "array([[ 0.31018192, -0.14770334,  0.03106498, ...,  0.        ,\n",
       "         0.        ,  0.        ],\n",
       "       [-1.19619273,  0.99346046, -1.64158172, ...,  0.        ,\n",
       "         0.        ,  0.        ],\n",
       "       [ 1.30108617, -1.17194461, -1.48228204, ...,  0.        ,\n",
       "         0.        ,  0.        ],\n",
       "       ...,\n",
       "       [-0.44050312, -0.43299429, -0.60613376, ...,  0.        ,\n",
       "         0.        ,  1.        ],\n",
       "       [ 0.85067515, -0.69957763,  0.11071483, ...,  0.        ,\n",
       "         0.        ,  0.        ],\n",
       "       [ 0.80563405, -0.77440804, -0.28753439, ...,  0.        ,\n",
       "         0.        ,  0.        ]])"
      ]
     },
     "execution_count": 69,
     "metadata": {},
     "output_type": "execute_result"
    }
   ],
   "source": [
    "preprocessing.fit_transform(df)"
   ]
  },
  {
   "cell_type": "code",
   "execution_count": 74,
   "metadata": {},
   "outputs": [
    {
     "data": {
      "text/plain": [
       "array([[ 0.31018192, -0.14770334,  0.03106498, ...,  0.        ,\n",
       "         0.        ,  0.        ],\n",
       "       [-1.19619273,  0.99346046, -1.64158172, ...,  0.        ,\n",
       "         0.        ,  0.        ],\n",
       "       [ 1.30108617, -1.17194461, -1.48228204, ...,  0.        ,\n",
       "         0.        ,  0.        ],\n",
       "       ...,\n",
       "       [-0.44050312, -0.43299429, -0.60613376, ...,  0.        ,\n",
       "         0.        ,  1.        ],\n",
       "       [ 0.85067515, -0.69957763,  0.11071483, ...,  0.        ,\n",
       "         0.        ,  0.        ],\n",
       "       [ 0.80563405, -0.77440804, -0.28753439, ...,  0.        ,\n",
       "         0.        ,  0.        ]])"
      ]
     },
     "execution_count": 74,
     "metadata": {},
     "output_type": "execute_result"
    }
   ],
   "source": [
    "preprocessing.fit_transform(df)"
   ]
  },
  {
   "cell_type": "code",
   "execution_count": 75,
   "metadata": {},
   "outputs": [],
   "source": [
    "test_df = pd.read_csv(test_file_path)"
   ]
  },
  {
   "cell_type": "code",
   "execution_count": 76,
   "metadata": {},
   "outputs": [
    {
     "data": {
      "text/plain": [
       "array([[ 0.61045594, -0.74166974,  1.46476216, ...,  0.        ,\n",
       "         0.        ,  0.        ],\n",
       "       [ 0.93575279, -0.76505424, -1.08403282, ...,  0.        ,\n",
       "         0.        ,  0.        ],\n",
       "       [ 0.6454879 , -0.76973114,  0.74791357, ...,  0.        ,\n",
       "         0.        ,  0.        ],\n",
       "       ...,\n",
       "       [-0.75579084,  1.55001166, -0.84508329, ...,  0.        ,\n",
       "         0.        ,  0.        ],\n",
       "       [-1.44141651,  1.00749116,  1.86301137, ...,  0.        ,\n",
       "         1.        ,  0.        ],\n",
       "       [-0.94596438,  1.36761252,  1.86301137, ...,  0.        ,\n",
       "         0.        ,  0.        ]])"
      ]
     },
     "execution_count": 76,
     "metadata": {},
     "output_type": "execute_result"
    }
   ],
   "source": [
    "preprocessing.transform(test_df)"
   ]
  },
  {
   "cell_type": "code",
   "execution_count": 77,
   "metadata": {},
   "outputs": [],
   "source": [
    "import dill"
   ]
  },
  {
   "cell_type": "code",
   "execution_count": 79,
   "metadata": {},
   "outputs": [],
   "source": [
    "with open('preprocessing.pkl','wb') as preprocessing_file:\n",
    "    dill.dump(preprocessing,preprocessing_file)"
   ]
  },
  {
   "cell_type": "code",
   "execution_count": 81,
   "metadata": {},
   "outputs": [],
   "source": [
    "with open('preprocessing.pkl','rb') as obj_file:\n",
    "    load_file = dill.load(obj_file)"
   ]
  },
  {
   "cell_type": "code",
   "execution_count": 82,
   "metadata": {},
   "outputs": [
    {
     "data": {
      "text/plain": [
       "ColumnTransformer(transformers=[('numerical_pipeline',\n",
       "                                 Pipeline(steps=[('imputer', SimpleImputer()),\n",
       "                                                 ('scaling',\n",
       "                                                  StandardScaler())]),\n",
       "                                 ['longitude', 'latitude', 'housing_median_age',\n",
       "                                  'total_rooms', 'total_bedrooms', 'population',\n",
       "                                  'households', 'median_income']),\n",
       "                                ('categorical_pipeline',\n",
       "                                 Pipeline(steps=[('imputer',\n",
       "                                                  SimpleImputer(strategy='most_frequent')),\n",
       "                                                 ('oneHotEncoder',\n",
       "                                                  OneHotEncoder())]),\n",
       "                                 ['ocean_proximity'])])"
      ]
     },
     "execution_count": 82,
     "metadata": {},
     "output_type": "execute_result"
    }
   ],
   "source": [
    "load_file"
   ]
  },
  {
   "cell_type": "code",
   "execution_count": 83,
   "metadata": {},
   "outputs": [
    {
     "data": {
      "text/plain": [
       "array([[ 0.61045594, -0.74166974,  1.46476216, ...,  0.        ,\n",
       "         0.        ,  0.        ],\n",
       "       [ 0.93575279, -0.76505424, -1.08403282, ...,  0.        ,\n",
       "         0.        ,  0.        ],\n",
       "       [ 0.6454879 , -0.76973114,  0.74791357, ...,  0.        ,\n",
       "         0.        ,  0.        ],\n",
       "       ...,\n",
       "       [-0.75579084,  1.55001166, -0.84508329, ...,  0.        ,\n",
       "         0.        ,  0.        ],\n",
       "       [-1.44141651,  1.00749116,  1.86301137, ...,  0.        ,\n",
       "         1.        ,  0.        ],\n",
       "       [-0.94596438,  1.36761252,  1.86301137, ...,  0.        ,\n",
       "         0.        ,  0.        ]])"
      ]
     },
     "execution_count": 83,
     "metadata": {},
     "output_type": "execute_result"
    }
   ],
   "source": [
    "load_file.transform(test_df)"
   ]
  },
  {
   "cell_type": "code",
   "execution_count": null,
   "metadata": {},
   "outputs": [],
   "source": []
  }
 ],
 "metadata": {
  "kernelspec": {
   "display_name": "Python 3.7.0 (conda)",
   "language": "python",
   "name": "python3"
  },
  "language_info": {
   "codemirror_mode": {
    "name": "ipython",
    "version": 3
   },
   "file_extension": ".py",
   "mimetype": "text/x-python",
   "name": "python",
   "nbconvert_exporter": "python",
   "pygments_lexer": "ipython3",
   "version": "3.7.0"
  },
  "orig_nbformat": 4,
  "vscode": {
   "interpreter": {
    "hash": "126f42762e5af1c1e0fcf0920dd5395f1ec4e6b64558b741fb680b4506e1e2d6"
   }
  }
 },
 "nbformat": 4,
 "nbformat_minor": 2
}
