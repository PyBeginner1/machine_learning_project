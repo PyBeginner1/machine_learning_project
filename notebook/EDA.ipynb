{
 "cells": [
  {
   "cell_type": "code",
   "execution_count": 1,
   "metadata": {},
   "outputs": [],
   "source": [
    "train_file_path = r'D:\\iNeuron\\Complete Project\\CI-CD Pipeline\\machine_learning_project\\housing\\artifact\\data_ingestion\\2022-11-28-16-30-19\\ingested_data\\train\\housing.csv'\n",
    "test_file_path = r'D:\\iNeuron\\Complete Project\\CI-CD Pipeline\\machine_learning_project\\housing\\artifact\\data_ingestion\\2022-11-28-16-30-19\\ingested_data\\test\\housing.csv'"
   ]
  },
  {
   "cell_type": "code",
   "execution_count": 2,
   "metadata": {},
   "outputs": [],
   "source": [
    "import pandas as pd"
   ]
  },
  {
   "cell_type": "code",
   "execution_count": 3,
   "metadata": {},
   "outputs": [
    {
     "data": {
      "text/html": [
       "<div>\n",
       "<style scoped>\n",
       "    .dataframe tbody tr th:only-of-type {\n",
       "        vertical-align: middle;\n",
       "    }\n",
       "\n",
       "    .dataframe tbody tr th {\n",
       "        vertical-align: top;\n",
       "    }\n",
       "\n",
       "    .dataframe thead th {\n",
       "        text-align: right;\n",
       "    }\n",
       "</style>\n",
       "<table border=\"1\" class=\"dataframe\">\n",
       "  <thead>\n",
       "    <tr style=\"text-align: right;\">\n",
       "      <th></th>\n",
       "      <th>longitude</th>\n",
       "      <th>latitude</th>\n",
       "      <th>housing_median_age</th>\n",
       "      <th>total_rooms</th>\n",
       "      <th>total_bedrooms</th>\n",
       "      <th>population</th>\n",
       "      <th>households</th>\n",
       "      <th>median_income</th>\n",
       "      <th>median_house_value</th>\n",
       "      <th>ocean_proximity</th>\n",
       "    </tr>\n",
       "  </thead>\n",
       "  <tbody>\n",
       "    <tr>\n",
       "      <th>0</th>\n",
       "      <td>-118.95</td>\n",
       "      <td>35.32</td>\n",
       "      <td>29</td>\n",
       "      <td>3480</td>\n",
       "      <td>608.0</td>\n",
       "      <td>2007</td>\n",
       "      <td>541</td>\n",
       "      <td>3.2738</td>\n",
       "      <td>78700</td>\n",
       "      <td>INLAND</td>\n",
       "    </tr>\n",
       "    <tr>\n",
       "      <th>1</th>\n",
       "      <td>-121.96</td>\n",
       "      <td>37.76</td>\n",
       "      <td>8</td>\n",
       "      <td>3865</td>\n",
       "      <td>463.0</td>\n",
       "      <td>1548</td>\n",
       "      <td>432</td>\n",
       "      <td>9.7037</td>\n",
       "      <td>425100</td>\n",
       "      <td>&lt;1H OCEAN</td>\n",
       "    </tr>\n",
       "    <tr>\n",
       "      <th>2</th>\n",
       "      <td>-116.97</td>\n",
       "      <td>33.13</td>\n",
       "      <td>10</td>\n",
       "      <td>5149</td>\n",
       "      <td>851.0</td>\n",
       "      <td>2177</td>\n",
       "      <td>783</td>\n",
       "      <td>6.7957</td>\n",
       "      <td>287500</td>\n",
       "      <td>&lt;1H OCEAN</td>\n",
       "    </tr>\n",
       "    <tr>\n",
       "      <th>3</th>\n",
       "      <td>-121.88</td>\n",
       "      <td>37.67</td>\n",
       "      <td>25</td>\n",
       "      <td>2244</td>\n",
       "      <td>301.0</td>\n",
       "      <td>937</td>\n",
       "      <td>324</td>\n",
       "      <td>6.4524</td>\n",
       "      <td>296900</td>\n",
       "      <td>INLAND</td>\n",
       "    </tr>\n",
       "    <tr>\n",
       "      <th>4</th>\n",
       "      <td>-121.52</td>\n",
       "      <td>38.58</td>\n",
       "      <td>24</td>\n",
       "      <td>938</td>\n",
       "      <td>275.0</td>\n",
       "      <td>508</td>\n",
       "      <td>253</td>\n",
       "      <td>1.6420</td>\n",
       "      <td>32500</td>\n",
       "      <td>INLAND</td>\n",
       "    </tr>\n",
       "  </tbody>\n",
       "</table>\n",
       "</div>"
      ],
      "text/plain": [
       "   longitude  latitude  housing_median_age  total_rooms  total_bedrooms  \\\n",
       "0    -118.95     35.32                  29         3480           608.0   \n",
       "1    -121.96     37.76                   8         3865           463.0   \n",
       "2    -116.97     33.13                  10         5149           851.0   \n",
       "3    -121.88     37.67                  25         2244           301.0   \n",
       "4    -121.52     38.58                  24          938           275.0   \n",
       "\n",
       "   population  households  median_income  median_house_value ocean_proximity  \n",
       "0        2007         541         3.2738               78700          INLAND  \n",
       "1        1548         432         9.7037              425100       <1H OCEAN  \n",
       "2        2177         783         6.7957              287500       <1H OCEAN  \n",
       "3         937         324         6.4524              296900          INLAND  \n",
       "4         508         253         1.6420               32500          INLAND  "
      ]
     },
     "execution_count": 3,
     "metadata": {},
     "output_type": "execute_result"
    }
   ],
   "source": [
    "df = pd.read_csv(train_file_path)\n",
    "df.head()"
   ]
  },
  {
   "cell_type": "code",
   "execution_count": 4,
   "metadata": {},
   "outputs": [
    {
     "data": {
      "text/plain": [
       "0         78700\n",
       "1        425100\n",
       "2        287500\n",
       "3        296900\n",
       "4         32500\n",
       "          ...  \n",
       "16507    236400\n",
       "16508    141300\n",
       "16509    249300\n",
       "16510    209200\n",
       "16511    302200\n",
       "Name: median_house_value, Length: 16512, dtype: int64"
      ]
     },
     "execution_count": 4,
     "metadata": {},
     "output_type": "execute_result"
    }
   ],
   "source": [
    "df['median_house_value']"
   ]
  },
  {
   "cell_type": "code",
   "execution_count": 5,
   "metadata": {},
   "outputs": [],
   "source": [
    "X = df.drop('median_house_value',axis = 1)\n",
    "y = df['median_house_value']"
   ]
  },
  {
   "cell_type": "code",
   "execution_count": 6,
   "metadata": {},
   "outputs": [
    {
     "data": {
      "text/html": [
       "<div>\n",
       "<style scoped>\n",
       "    .dataframe tbody tr th:only-of-type {\n",
       "        vertical-align: middle;\n",
       "    }\n",
       "\n",
       "    .dataframe tbody tr th {\n",
       "        vertical-align: top;\n",
       "    }\n",
       "\n",
       "    .dataframe thead th {\n",
       "        text-align: right;\n",
       "    }\n",
       "</style>\n",
       "<table border=\"1\" class=\"dataframe\">\n",
       "  <thead>\n",
       "    <tr style=\"text-align: right;\">\n",
       "      <th></th>\n",
       "      <th>longitude</th>\n",
       "      <th>latitude</th>\n",
       "      <th>housing_median_age</th>\n",
       "      <th>total_rooms</th>\n",
       "      <th>total_bedrooms</th>\n",
       "      <th>population</th>\n",
       "      <th>households</th>\n",
       "      <th>median_income</th>\n",
       "      <th>ocean_proximity</th>\n",
       "    </tr>\n",
       "  </thead>\n",
       "  <tbody>\n",
       "    <tr>\n",
       "      <th>0</th>\n",
       "      <td>-118.95</td>\n",
       "      <td>35.32</td>\n",
       "      <td>29</td>\n",
       "      <td>3480</td>\n",
       "      <td>608.0</td>\n",
       "      <td>2007</td>\n",
       "      <td>541</td>\n",
       "      <td>3.2738</td>\n",
       "      <td>INLAND</td>\n",
       "    </tr>\n",
       "    <tr>\n",
       "      <th>1</th>\n",
       "      <td>-121.96</td>\n",
       "      <td>37.76</td>\n",
       "      <td>8</td>\n",
       "      <td>3865</td>\n",
       "      <td>463.0</td>\n",
       "      <td>1548</td>\n",
       "      <td>432</td>\n",
       "      <td>9.7037</td>\n",
       "      <td>&lt;1H OCEAN</td>\n",
       "    </tr>\n",
       "    <tr>\n",
       "      <th>2</th>\n",
       "      <td>-116.97</td>\n",
       "      <td>33.13</td>\n",
       "      <td>10</td>\n",
       "      <td>5149</td>\n",
       "      <td>851.0</td>\n",
       "      <td>2177</td>\n",
       "      <td>783</td>\n",
       "      <td>6.7957</td>\n",
       "      <td>&lt;1H OCEAN</td>\n",
       "    </tr>\n",
       "    <tr>\n",
       "      <th>3</th>\n",
       "      <td>-121.88</td>\n",
       "      <td>37.67</td>\n",
       "      <td>25</td>\n",
       "      <td>2244</td>\n",
       "      <td>301.0</td>\n",
       "      <td>937</td>\n",
       "      <td>324</td>\n",
       "      <td>6.4524</td>\n",
       "      <td>INLAND</td>\n",
       "    </tr>\n",
       "    <tr>\n",
       "      <th>4</th>\n",
       "      <td>-121.52</td>\n",
       "      <td>38.58</td>\n",
       "      <td>24</td>\n",
       "      <td>938</td>\n",
       "      <td>275.0</td>\n",
       "      <td>508</td>\n",
       "      <td>253</td>\n",
       "      <td>1.6420</td>\n",
       "      <td>INLAND</td>\n",
       "    </tr>\n",
       "  </tbody>\n",
       "</table>\n",
       "</div>"
      ],
      "text/plain": [
       "   longitude  latitude  housing_median_age  total_rooms  total_bedrooms  \\\n",
       "0    -118.95     35.32                  29         3480           608.0   \n",
       "1    -121.96     37.76                   8         3865           463.0   \n",
       "2    -116.97     33.13                  10         5149           851.0   \n",
       "3    -121.88     37.67                  25         2244           301.0   \n",
       "4    -121.52     38.58                  24          938           275.0   \n",
       "\n",
       "   population  households  median_income ocean_proximity  \n",
       "0        2007         541         3.2738          INLAND  \n",
       "1        1548         432         9.7037       <1H OCEAN  \n",
       "2        2177         783         6.7957       <1H OCEAN  \n",
       "3         937         324         6.4524          INLAND  \n",
       "4         508         253         1.6420          INLAND  "
      ]
     },
     "execution_count": 6,
     "metadata": {},
     "output_type": "execute_result"
    }
   ],
   "source": [
    "X.head()"
   ]
  },
  {
   "cell_type": "code",
   "execution_count": 7,
   "metadata": {},
   "outputs": [
    {
     "data": {
      "text/plain": [
       "0     78700\n",
       "1    425100\n",
       "2    287500\n",
       "3    296900\n",
       "4     32500\n",
       "Name: median_house_value, dtype: int64"
      ]
     },
     "execution_count": 7,
     "metadata": {},
     "output_type": "execute_result"
    }
   ],
   "source": [
    "y.head()"
   ]
  },
  {
   "cell_type": "code",
   "execution_count": 8,
   "metadata": {},
   "outputs": [
    {
     "data": {
      "text/plain": [
       "(16512, 10)"
      ]
     },
     "execution_count": 8,
     "metadata": {},
     "output_type": "execute_result"
    }
   ],
   "source": [
    "df.shape"
   ]
  },
  {
   "cell_type": "code",
   "execution_count": 9,
   "metadata": {},
   "outputs": [
    {
     "data": {
      "text/plain": [
       "longitude               0\n",
       "latitude                0\n",
       "housing_median_age      0\n",
       "total_rooms             0\n",
       "total_bedrooms        170\n",
       "population              0\n",
       "households              0\n",
       "median_income           0\n",
       "ocean_proximity         0\n",
       "dtype: int64"
      ]
     },
     "execution_count": 9,
     "metadata": {},
     "output_type": "execute_result"
    }
   ],
   "source": [
    "X.isna().sum()"
   ]
  },
  {
   "cell_type": "code",
   "execution_count": 10,
   "metadata": {},
   "outputs": [],
   "source": [
    "import seaborn as sns"
   ]
  },
  {
   "cell_type": "code",
   "execution_count": 11,
   "metadata": {},
   "outputs": [
    {
     "data": {
      "text/plain": [
       "<AxesSubplot:>"
      ]
     },
     "execution_count": 11,
     "metadata": {},
     "output_type": "execute_result"
    },
    {
     "data": {
      "image/png": "[encoded data removed]",
      "text/plain": [
       "<Figure size 640x480 with 1 Axes>"
      ]
     },
     "metadata": {},
     "output_type": "display_data"
    }
   ],
   "source": [
    "sns.boxplot(X['total_bedrooms'])"
   ]
  },
  {
   "cell_type": "code",
   "execution_count": 12,
   "metadata": {},
   "outputs": [],
   "source": [
    "from sklearn.impute import SimpleImputer"
   ]
  },
  {
   "cell_type": "code",
   "execution_count": 13,
   "metadata": {},
   "outputs": [],
   "source": [
    "simple_imputer = SimpleImputer(strategy='median')"
   ]
  },
  {
   "cell_type": "code",
   "execution_count": 14,
   "metadata": {},
   "outputs": [
    {
     "data": {
      "text/html": [
       "<div>\n",
       "<style scoped>\n",
       "    .dataframe tbody tr th:only-of-type {\n",
       "        vertical-align: middle;\n",
       "    }\n",
       "\n",
       "    .dataframe tbody tr th {\n",
       "        vertical-align: top;\n",
       "    }\n",
       "\n",
       "    .dataframe thead th {\n",
       "        text-align: right;\n",
       "    }\n",
       "</style>\n",
       "<table border=\"1\" class=\"dataframe\">\n",
       "  <thead>\n",
       "    <tr style=\"text-align: right;\">\n",
       "      <th></th>\n",
       "      <th>longitude</th>\n",
       "      <th>latitude</th>\n",
       "      <th>housing_median_age</th>\n",
       "      <th>total_rooms</th>\n",
       "      <th>total_bedrooms</th>\n",
       "      <th>population</th>\n",
       "      <th>households</th>\n",
       "      <th>median_income</th>\n",
       "    </tr>\n",
       "  </thead>\n",
       "  <tbody>\n",
       "    <tr>\n",
       "      <th>0</th>\n",
       "      <td>-118.95</td>\n",
       "      <td>35.32</td>\n",
       "      <td>29</td>\n",
       "      <td>3480</td>\n",
       "      <td>608.0</td>\n",
       "      <td>2007</td>\n",
       "      <td>541</td>\n",
       "      <td>3.2738</td>\n",
       "    </tr>\n",
       "    <tr>\n",
       "      <th>1</th>\n",
       "      <td>-121.96</td>\n",
       "      <td>37.76</td>\n",
       "      <td>8</td>\n",
       "      <td>3865</td>\n",
       "      <td>463.0</td>\n",
       "      <td>1548</td>\n",
       "      <td>432</td>\n",
       "      <td>9.7037</td>\n",
       "    </tr>\n",
       "    <tr>\n",
       "      <th>2</th>\n",
       "      <td>-116.97</td>\n",
       "      <td>33.13</td>\n",
       "      <td>10</td>\n",
       "      <td>5149</td>\n",
       "      <td>851.0</td>\n",
       "      <td>2177</td>\n",
       "      <td>783</td>\n",
       "      <td>6.7957</td>\n",
       "    </tr>\n",
       "    <tr>\n",
       "      <th>3</th>\n",
       "      <td>-121.88</td>\n",
       "      <td>37.67</td>\n",
       "      <td>25</td>\n",
       "      <td>2244</td>\n",
       "      <td>301.0</td>\n",
       "      <td>937</td>\n",
       "      <td>324</td>\n",
       "      <td>6.4524</td>\n",
       "    </tr>\n",
       "    <tr>\n",
       "      <th>4</th>\n",
       "      <td>-121.52</td>\n",
       "      <td>38.58</td>\n",
       "      <td>24</td>\n",
       "      <td>938</td>\n",
       "      <td>275.0</td>\n",
       "      <td>508</td>\n",
       "      <td>253</td>\n",
       "      <td>1.6420</td>\n",
       "    </tr>\n",
       "  </tbody>\n",
       "</table>\n",
       "</div>"
      ],
      "text/plain": [
       "   longitude  latitude  housing_median_age  total_rooms  total_bedrooms  \\\n",
       "0    -118.95     35.32                  29         3480           608.0   \n",
       "1    -121.96     37.76                   8         3865           463.0   \n",
       "2    -116.97     33.13                  10         5149           851.0   \n",
       "3    -121.88     37.67                  25         2244           301.0   \n",
       "4    -121.52     38.58                  24          938           275.0   \n",
       "\n",
       "   population  households  median_income  \n",
       "0        2007         541         3.2738  \n",
       "1        1548         432         9.7037  \n",
       "2        2177         783         6.7957  \n",
       "3         937         324         6.4524  \n",
       "4         508         253         1.6420  "
      ]
     },
     "execution_count": 14,
     "metadata": {},
     "output_type": "execute_result"
    }
   ],
   "source": [
    "numerical_columns = X.drop('ocean_proximity', axis = 1)\n",
    "numerical_columns.head()"
   ]
  },
  {
   "cell_type": "code",
   "execution_count": 15,
   "metadata": {},
   "outputs": [
    {
     "data": {
      "text/html": [
       "<div>\n",
       "<style scoped>\n",
       "    .dataframe tbody tr th:only-of-type {\n",
       "        vertical-align: middle;\n",
       "    }\n",
       "\n",
       "    .dataframe tbody tr th {\n",
       "        vertical-align: top;\n",
       "    }\n",
       "\n",
       "    .dataframe thead th {\n",
       "        text-align: right;\n",
       "    }\n",
       "</style>\n",
       "<table border=\"1\" class=\"dataframe\">\n",
       "  <thead>\n",
       "    <tr style=\"text-align: right;\">\n",
       "      <th></th>\n",
       "      <th>longitude</th>\n",
       "      <th>latitude</th>\n",
       "      <th>housing_median_age</th>\n",
       "      <th>total_rooms</th>\n",
       "      <th>total_bedrooms</th>\n",
       "      <th>population</th>\n",
       "      <th>households</th>\n",
       "      <th>median_income</th>\n",
       "    </tr>\n",
       "  </thead>\n",
       "  <tbody>\n",
       "    <tr>\n",
       "      <th>0</th>\n",
       "      <td>-118.95</td>\n",
       "      <td>35.32</td>\n",
       "      <td>29.0</td>\n",
       "      <td>3480.0</td>\n",
       "      <td>608.0</td>\n",
       "      <td>2007.0</td>\n",
       "      <td>541.0</td>\n",
       "      <td>3.2738</td>\n",
       "    </tr>\n",
       "    <tr>\n",
       "      <th>1</th>\n",
       "      <td>-121.96</td>\n",
       "      <td>37.76</td>\n",
       "      <td>8.0</td>\n",
       "      <td>3865.0</td>\n",
       "      <td>463.0</td>\n",
       "      <td>1548.0</td>\n",
       "      <td>432.0</td>\n",
       "      <td>9.7037</td>\n",
       "    </tr>\n",
       "    <tr>\n",
       "      <th>2</th>\n",
       "      <td>-116.97</td>\n",
       "      <td>33.13</td>\n",
       "      <td>10.0</td>\n",
       "      <td>5149.0</td>\n",
       "      <td>851.0</td>\n",
       "      <td>2177.0</td>\n",
       "      <td>783.0</td>\n",
       "      <td>6.7957</td>\n",
       "    </tr>\n",
       "    <tr>\n",
       "      <th>3</th>\n",
       "      <td>-121.88</td>\n",
       "      <td>37.67</td>\n",
       "      <td>25.0</td>\n",
       "      <td>2244.0</td>\n",
       "      <td>301.0</td>\n",
       "      <td>937.0</td>\n",
       "      <td>324.0</td>\n",
       "      <td>6.4524</td>\n",
       "    </tr>\n",
       "    <tr>\n",
       "      <th>4</th>\n",
       "      <td>-121.52</td>\n",
       "      <td>38.58</td>\n",
       "      <td>24.0</td>\n",
       "      <td>938.0</td>\n",
       "      <td>275.0</td>\n",
       "      <td>508.0</td>\n",
       "      <td>253.0</td>\n",
       "      <td>1.6420</td>\n",
       "    </tr>\n",
       "    <tr>\n",
       "      <th>...</th>\n",
       "      <td>...</td>\n",
       "      <td>...</td>\n",
       "      <td>...</td>\n",
       "      <td>...</td>\n",
       "      <td>...</td>\n",
       "      <td>...</td>\n",
       "      <td>...</td>\n",
       "      <td>...</td>\n",
       "    </tr>\n",
       "    <tr>\n",
       "      <th>16507</th>\n",
       "      <td>-118.14</td>\n",
       "      <td>34.05</td>\n",
       "      <td>39.0</td>\n",
       "      <td>1880.0</td>\n",
       "      <td>367.0</td>\n",
       "      <td>954.0</td>\n",
       "      <td>349.0</td>\n",
       "      <td>3.8750</td>\n",
       "    </tr>\n",
       "    <tr>\n",
       "      <th>16508</th>\n",
       "      <td>-120.18</td>\n",
       "      <td>39.28</td>\n",
       "      <td>14.0</td>\n",
       "      <td>10098.0</td>\n",
       "      <td>1545.0</td>\n",
       "      <td>701.0</td>\n",
       "      <td>254.0</td>\n",
       "      <td>4.0819</td>\n",
       "    </tr>\n",
       "    <tr>\n",
       "      <th>16509</th>\n",
       "      <td>-120.45</td>\n",
       "      <td>34.71</td>\n",
       "      <td>21.0</td>\n",
       "      <td>1868.0</td>\n",
       "      <td>268.0</td>\n",
       "      <td>522.0</td>\n",
       "      <td>255.0</td>\n",
       "      <td>6.4678</td>\n",
       "    </tr>\n",
       "    <tr>\n",
       "      <th>16510</th>\n",
       "      <td>-117.87</td>\n",
       "      <td>34.14</td>\n",
       "      <td>30.0</td>\n",
       "      <td>2495.0</td>\n",
       "      <td>586.0</td>\n",
       "      <td>1139.0</td>\n",
       "      <td>559.0</td>\n",
       "      <td>2.9375</td>\n",
       "    </tr>\n",
       "    <tr>\n",
       "      <th>16511</th>\n",
       "      <td>-117.96</td>\n",
       "      <td>33.98</td>\n",
       "      <td>25.0</td>\n",
       "      <td>1259.0</td>\n",
       "      <td>184.0</td>\n",
       "      <td>599.0</td>\n",
       "      <td>170.0</td>\n",
       "      <td>5.7407</td>\n",
       "    </tr>\n",
       "  </tbody>\n",
       "</table>\n",
       "<p>16512 rows × 8 columns</p>\n",
       "</div>"
      ],
      "text/plain": [
       "       longitude  latitude  housing_median_age  total_rooms  total_bedrooms  \\\n",
       "0        -118.95     35.32                29.0       3480.0           608.0   \n",
       "1        -121.96     37.76                 8.0       3865.0           463.0   \n",
       "2        -116.97     33.13                10.0       5149.0           851.0   \n",
       "3        -121.88     37.67                25.0       2244.0           301.0   \n",
       "4        -121.52     38.58                24.0        938.0           275.0   \n",
       "...          ...       ...                 ...          ...             ...   \n",
       "16507    -118.14     34.05                39.0       1880.0           367.0   \n",
       "16508    -120.18     39.28                14.0      10098.0          1545.0   \n",
       "16509    -120.45     34.71                21.0       1868.0           268.0   \n",
       "16510    -117.87     34.14                30.0       2495.0           586.0   \n",
       "16511    -117.96     33.98                25.0       1259.0           184.0   \n",
       "\n",
       "       population  households  median_income  \n",
       "0          2007.0       541.0         3.2738  \n",
       "1          1548.0       432.0         9.7037  \n",
       "2          2177.0       783.0         6.7957  \n",
       "3           937.0       324.0         6.4524  \n",
       "4           508.0       253.0         1.6420  \n",
       "...           ...         ...            ...  \n",
       "16507       954.0       349.0         3.8750  \n",
       "16508       701.0       254.0         4.0819  \n",
       "16509       522.0       255.0         6.4678  \n",
       "16510      1139.0       559.0         2.9375  \n",
       "16511       599.0       170.0         5.7407  \n",
       "\n",
       "[16512 rows x 8 columns]"
      ]
     },
     "execution_count": 15,
     "metadata": {},
     "output_type": "execute_result"
    }
   ],
   "source": [
    "pd.DataFrame(simple_imputer.fit_transform(numerical_columns), columns = numerical_columns.columns)"
   ]
  },
  {
   "cell_type": "code",
   "execution_count": 16,
   "metadata": {},
   "outputs": [
    {
     "data": {
      "text/plain": [
       "Index(['longitude', 'latitude', 'housing_median_age', 'total_rooms',\n",
       "       'total_bedrooms', 'population', 'households', 'median_income'],\n",
       "      dtype='object')"
      ]
     },
     "execution_count": 16,
     "metadata": {},
     "output_type": "execute_result"
    }
   ],
   "source": [
    "numerical_columns.columns"
   ]
  },
  {
   "cell_type": "code",
   "execution_count": 17,
   "metadata": {},
   "outputs": [
    {
     "data": {
      "text/plain": [
       "longitude             0\n",
       "latitude              0\n",
       "housing_median_age    0\n",
       "total_rooms           0\n",
       "total_bedrooms        0\n",
       "population            0\n",
       "households            0\n",
       "median_income         0\n",
       "dtype: int64"
      ]
     },
     "execution_count": 17,
     "metadata": {},
     "output_type": "execute_result"
    }
   ],
   "source": [
    "(pd.DataFrame(simple_imputer.fit_transform(numerical_columns), columns = numerical_columns.columns)).isna().sum()"
   ]
  },
  {
   "cell_type": "code",
   "execution_count": 18,
   "metadata": {},
   "outputs": [
    {
     "data": {
      "text/plain": [
       "array([-118.49   ,   34.26   ,   29.     , 2121.     ,  434.     ,\n",
       "       1163.     ,  408.     ,    3.53715])"
      ]
     },
     "execution_count": 18,
     "metadata": {},
     "output_type": "execute_result"
    }
   ],
   "source": [
    "simple_imputer.statistics_"
   ]
  },
  {
   "cell_type": "code",
   "execution_count": 19,
   "metadata": {},
   "outputs": [
    {
     "data": {
      "text/plain": [
       "Index(['longitude', 'latitude', 'housing_median_age', 'total_rooms',\n",
       "       'total_bedrooms', 'population', 'households', 'median_income',\n",
       "       'median_house_value', 'ocean_proximity'],\n",
       "      dtype='object')"
      ]
     },
     "execution_count": 19,
     "metadata": {},
     "output_type": "execute_result"
    }
   ],
   "source": [
    "df.columns "
   ]
  },
  {
   "cell_type": "code",
   "execution_count": 20,
   "metadata": {},
   "outputs": [
    {
     "data": {
      "text/plain": [
       "0         6.432532\n",
       "1         8.946759\n",
       "2         6.575990\n",
       "3         6.925926\n",
       "4         3.707510\n",
       "           ...    \n",
       "16507     5.386819\n",
       "16508    39.755906\n",
       "16509     7.325490\n",
       "16510     4.463327\n",
       "16511     7.405882\n",
       "Length: 16512, dtype: float64"
      ]
     },
     "execution_count": 20,
     "metadata": {},
     "output_type": "execute_result"
    }
   ],
   "source": [
    "room_per_house = df['total_rooms']/df['households']\n",
    "room_per_house"
   ]
  },
  {
   "cell_type": "code",
   "execution_count": 21,
   "metadata": {},
   "outputs": [
    {
     "data": {
      "text/plain": [
       "Index(['longitude', 'latitude', 'housing_median_age', 'total_rooms',\n",
       "       'total_bedrooms', 'population', 'households', 'median_income',\n",
       "       'median_house_value', 'ocean_proximity'],\n",
       "      dtype='object')"
      ]
     },
     "execution_count": 21,
     "metadata": {},
     "output_type": "execute_result"
    }
   ],
   "source": [
    "df.columns"
   ]
  },
  {
   "cell_type": "code",
   "execution_count": 22,
   "metadata": {},
   "outputs": [],
   "source": [
    "from sklearn.pipeline import Pipeline \n",
    "from sklearn.compose import ColumnTransformer\n",
    "from sklearn.preprocessing import StandardScaler, OneHotEncoder\n",
    "from sklearn.base import BaseEstimator,TransformerMixin"
   ]
  },
  {
   "cell_type": "code",
   "execution_count": 23,
   "metadata": {},
   "outputs": [],
   "source": [
    "COLUMN_TOTAL_ROOMS = df['total_rooms']\n",
    "COLUMN_POPULATION = df['population']\n",
    "COLUMN_HOUSEHOLDS = df['households']\n",
    "COLUMN_TOTAL_BEDROOM = df['total_bedrooms']\n",
    "\n",
    "class FeatureGenerator(BaseEstimator, TransformerMixin):\n",
    "\n",
    "    def __init__(self, add_bedrooms_per_room=True,\n",
    "                 total_rooms_ix=3,\n",
    "                 population_ix=5,\n",
    "                 households_ix=6,\n",
    "                 total_bedrooms_ix=4, columns=None):\n",
    "        \"\"\"\n",
    "        FeatureGenerator Initialization\n",
    "        add_bedrooms_per_room: bool\n",
    "        total_rooms_ix: int index number of total rooms columns\n",
    "        population_ix: int index number of total population columns\n",
    "        households_ix: int index number of  households columns\n",
    "        total_bedrooms_ix: int index number of bedrooms columns\n",
    "        \"\"\"\n",
    "        try:\n",
    "            self.columns = columns\n",
    "            if self.columns is not None:\n",
    "                total_rooms_ix = self.columns.index(COLUMN_TOTAL_ROOMS)\n",
    "                population_ix = self.columns.index(COLUMN_POPULATION)\n",
    "                households_ix = self.columns.index(COLUMN_HOUSEHOLDS)\n",
    "                total_bedrooms_ix = self.columns.index(COLUMN_TOTAL_BEDROOM)\n",
    "\n",
    "            self.add_bedrooms_per_room = add_bedrooms_per_room\n",
    "            self.total_rooms_ix = total_rooms_ix\n",
    "            self.population_ix = population_ix\n",
    "            self.households_ix = households_ix\n",
    "            self.total_bedrooms_ix = total_bedrooms_ix\n",
    "        except Exception as e:\n",
    "            raise e"
   ]
  },
  {
   "cell_type": "code",
   "execution_count": 24,
   "metadata": {},
   "outputs": [],
   "source": [
    "num_pipeline = Pipeline(steps = [\n",
    "    ('imputer',SimpleImputer(strategy='median')),\n",
    "    ('scaling', StandardScaler())\n",
    "])"
   ]
  },
  {
   "cell_type": "code",
   "execution_count": 25,
   "metadata": {},
   "outputs": [],
   "source": [
    "cat_pipeline = Pipeline(steps = [\n",
    "    ('imputer',SimpleImputer(strategy = 'most_frequent')),\n",
    "    ('oneHotEncoder',OneHotEncoder())\n",
    "])"
   ]
  },
  {
   "cell_type": "code",
   "execution_count": 26,
   "metadata": {},
   "outputs": [
    {
     "data": {
      "text/plain": [
       "Index(['longitude', 'latitude', 'housing_median_age', 'total_rooms',\n",
       "       'total_bedrooms', 'population', 'households', 'median_income',\n",
       "       'median_house_value', 'ocean_proximity'],\n",
       "      dtype='object')"
      ]
     },
     "execution_count": 26,
     "metadata": {},
     "output_type": "execute_result"
    }
   ],
   "source": [
    "df.columns "
   ]
  },
  {
   "cell_type": "code",
   "execution_count": 27,
   "metadata": {},
   "outputs": [],
   "source": [
    "num_columns = ['longitude', 'latitude', 'housing_median_age',\n",
    "       'total_rooms', 'total_bedrooms', 'population', 'households',\n",
    "       'median_income']\n",
    "\n",
    "cat_columns = ['ocean_proximity']"
   ]
  },
  {
   "cell_type": "code",
   "execution_count": 28,
   "metadata": {},
   "outputs": [],
   "source": [
    "preprocessing = ColumnTransformer([\n",
    "    ('numerical_pipeline',num_pipeline,num_columns),\n",
    "    ('categorical_pipeline',cat_pipeline,cat_columns)\n",
    "])"
   ]
  },
  {
   "cell_type": "code",
   "execution_count": 29,
   "metadata": {},
   "outputs": [
    {
     "data": {
      "text/plain": [
       "array([[ 0.31018192, -0.14770334,  0.03106498, ...,  0.        ,\n",
       "         0.        ,  0.        ],\n",
       "       [-1.19619273,  0.99346046, -1.64158172, ...,  0.        ,\n",
       "         0.        ,  0.        ],\n",
       "       [ 1.30108617, -1.17194461, -1.48228204, ...,  0.        ,\n",
       "         0.        ,  0.        ],\n",
       "       ...,\n",
       "       [-0.44050312, -0.43299429, -0.60613376, ...,  0.        ,\n",
       "         0.        ,  1.        ],\n",
       "       [ 0.85067515, -0.69957763,  0.11071483, ...,  0.        ,\n",
       "         0.        ,  0.        ],\n",
       "       [ 0.80563405, -0.77440804, -0.28753439, ...,  0.        ,\n",
       "         0.        ,  0.        ]])"
      ]
     },
     "execution_count": 29,
     "metadata": {},
     "output_type": "execute_result"
    }
   ],
   "source": [
    "train_df = preprocessing.fit_transform(df)\n",
    "train_df"
   ]
  },
  {
   "cell_type": "code",
   "execution_count": 30,
   "metadata": {},
   "outputs": [
    {
     "data": {
      "text/plain": [
       "array([[ 0.31018192, -0.14770334,  0.03106498, ...,  0.        ,\n",
       "         0.        ,  0.        ],\n",
       "       [-1.19619273,  0.99346046, -1.64158172, ...,  0.        ,\n",
       "         0.        ,  0.        ],\n",
       "       [ 1.30108617, -1.17194461, -1.48228204, ...,  0.        ,\n",
       "         0.        ,  0.        ],\n",
       "       ...,\n",
       "       [-0.44050312, -0.43299429, -0.60613376, ...,  0.        ,\n",
       "         0.        ,  1.        ],\n",
       "       [ 0.85067515, -0.69957763,  0.11071483, ...,  0.        ,\n",
       "         0.        ,  0.        ],\n",
       "       [ 0.80563405, -0.77440804, -0.28753439, ...,  0.        ,\n",
       "         0.        ,  0.        ]])"
      ]
     },
     "execution_count": 30,
     "metadata": {},
     "output_type": "execute_result"
    }
   ],
   "source": [
    "preprocessing.fit_transform(df)"
   ]
  },
  {
   "cell_type": "code",
   "execution_count": 31,
   "metadata": {},
   "outputs": [
    {
     "data": {
      "text/html": [
       "<div>\n",
       "<style scoped>\n",
       "    .dataframe tbody tr th:only-of-type {\n",
       "        vertical-align: middle;\n",
       "    }\n",
       "\n",
       "    .dataframe tbody tr th {\n",
       "        vertical-align: top;\n",
       "    }\n",
       "\n",
       "    .dataframe thead th {\n",
       "        text-align: right;\n",
       "    }\n",
       "</style>\n",
       "<table border=\"1\" class=\"dataframe\">\n",
       "  <thead>\n",
       "    <tr style=\"text-align: right;\">\n",
       "      <th></th>\n",
       "      <th>Unnamed: 0</th>\n",
       "      <th>longitude</th>\n",
       "      <th>latitude</th>\n",
       "      <th>housing_median_age</th>\n",
       "      <th>total_rooms</th>\n",
       "      <th>total_bedrooms</th>\n",
       "      <th>population</th>\n",
       "      <th>households</th>\n",
       "      <th>median_income</th>\n",
       "      <th>median_house_value</th>\n",
       "      <th>ocean_proximity</th>\n",
       "    </tr>\n",
       "  </thead>\n",
       "  <tbody>\n",
       "    <tr>\n",
       "      <th>0</th>\n",
       "      <td>4741</td>\n",
       "      <td>-118.35</td>\n",
       "      <td>34.05</td>\n",
       "      <td>47.0</td>\n",
       "      <td>2815.0</td>\n",
       "      <td>679.0</td>\n",
       "      <td>1533.0</td>\n",
       "      <td>594.0</td>\n",
       "      <td>2.5806</td>\n",
       "      <td>234100.0</td>\n",
       "      <td>&lt;1H OCEAN</td>\n",
       "    </tr>\n",
       "    <tr>\n",
       "      <th>1</th>\n",
       "      <td>13220</td>\n",
       "      <td>-117.70</td>\n",
       "      <td>34.00</td>\n",
       "      <td>15.0</td>\n",
       "      <td>4905.0</td>\n",
       "      <td>711.0</td>\n",
       "      <td>2711.0</td>\n",
       "      <td>762.0</td>\n",
       "      <td>5.7021</td>\n",
       "      <td>193100.0</td>\n",
       "      <td>INLAND</td>\n",
       "    </tr>\n",
       "    <tr>\n",
       "      <th>2</th>\n",
       "      <td>5126</td>\n",
       "      <td>-118.28</td>\n",
       "      <td>33.99</td>\n",
       "      <td>38.0</td>\n",
       "      <td>1454.0</td>\n",
       "      <td>323.0</td>\n",
       "      <td>1098.0</td>\n",
       "      <td>297.0</td>\n",
       "      <td>1.5109</td>\n",
       "      <td>104000.0</td>\n",
       "      <td>&lt;1H OCEAN</td>\n",
       "    </tr>\n",
       "    <tr>\n",
       "      <th>3</th>\n",
       "      <td>3425</td>\n",
       "      <td>-118.43</td>\n",
       "      <td>34.28</td>\n",
       "      <td>30.0</td>\n",
       "      <td>1384.0</td>\n",
       "      <td>308.0</td>\n",
       "      <td>2054.0</td>\n",
       "      <td>301.0</td>\n",
       "      <td>3.0132</td>\n",
       "      <td>142600.0</td>\n",
       "      <td>&lt;1H OCEAN</td>\n",
       "    </tr>\n",
       "    <tr>\n",
       "      <th>4</th>\n",
       "      <td>18796</td>\n",
       "      <td>-122.31</td>\n",
       "      <td>40.89</td>\n",
       "      <td>18.0</td>\n",
       "      <td>754.0</td>\n",
       "      <td>161.0</td>\n",
       "      <td>247.0</td>\n",
       "      <td>107.0</td>\n",
       "      <td>2.2583</td>\n",
       "      <td>78800.0</td>\n",
       "      <td>INLAND</td>\n",
       "    </tr>\n",
       "    <tr>\n",
       "      <th>...</th>\n",
       "      <td>...</td>\n",
       "      <td>...</td>\n",
       "      <td>...</td>\n",
       "      <td>...</td>\n",
       "      <td>...</td>\n",
       "      <td>...</td>\n",
       "      <td>...</td>\n",
       "      <td>...</td>\n",
       "      <td>...</td>\n",
       "      <td>...</td>\n",
       "      <td>...</td>\n",
       "    </tr>\n",
       "    <tr>\n",
       "      <th>4123</th>\n",
       "      <td>3191</td>\n",
       "      <td>-119.81</td>\n",
       "      <td>36.28</td>\n",
       "      <td>24.0</td>\n",
       "      <td>544.0</td>\n",
       "      <td>112.0</td>\n",
       "      <td>442.0</td>\n",
       "      <td>106.0</td>\n",
       "      <td>3.1071</td>\n",
       "      <td>56100.0</td>\n",
       "      <td>INLAND</td>\n",
       "    </tr>\n",
       "    <tr>\n",
       "      <th>4124</th>\n",
       "      <td>18379</td>\n",
       "      <td>-121.87</td>\n",
       "      <td>37.22</td>\n",
       "      <td>26.0</td>\n",
       "      <td>1921.0</td>\n",
       "      <td>250.0</td>\n",
       "      <td>725.0</td>\n",
       "      <td>253.0</td>\n",
       "      <td>7.6933</td>\n",
       "      <td>405900.0</td>\n",
       "      <td>&lt;1H OCEAN</td>\n",
       "    </tr>\n",
       "    <tr>\n",
       "      <th>4125</th>\n",
       "      <td>11820</td>\n",
       "      <td>-121.08</td>\n",
       "      <td>38.95</td>\n",
       "      <td>18.0</td>\n",
       "      <td>1931.0</td>\n",
       "      <td>380.0</td>\n",
       "      <td>1271.0</td>\n",
       "      <td>377.0</td>\n",
       "      <td>2.7463</td>\n",
       "      <td>156100.0</td>\n",
       "      <td>INLAND</td>\n",
       "    </tr>\n",
       "    <tr>\n",
       "      <th>4126</th>\n",
       "      <td>15695</td>\n",
       "      <td>-122.45</td>\n",
       "      <td>37.79</td>\n",
       "      <td>52.0</td>\n",
       "      <td>3069.0</td>\n",
       "      <td>579.0</td>\n",
       "      <td>1107.0</td>\n",
       "      <td>536.0</td>\n",
       "      <td>5.5634</td>\n",
       "      <td>500001.0</td>\n",
       "      <td>NEAR BAY</td>\n",
       "    </tr>\n",
       "    <tr>\n",
       "      <th>4127</th>\n",
       "      <td>12513</td>\n",
       "      <td>-121.46</td>\n",
       "      <td>38.56</td>\n",
       "      <td>52.0</td>\n",
       "      <td>1878.0</td>\n",
       "      <td>393.0</td>\n",
       "      <td>722.0</td>\n",
       "      <td>381.0</td>\n",
       "      <td>3.3348</td>\n",
       "      <td>122800.0</td>\n",
       "      <td>INLAND</td>\n",
       "    </tr>\n",
       "  </tbody>\n",
       "</table>\n",
       "<p>4128 rows × 11 columns</p>\n",
       "</div>"
      ],
      "text/plain": [
       "      Unnamed: 0  longitude  latitude  housing_median_age  total_rooms  \\\n",
       "0           4741    -118.35     34.05                47.0       2815.0   \n",
       "1          13220    -117.70     34.00                15.0       4905.0   \n",
       "2           5126    -118.28     33.99                38.0       1454.0   \n",
       "3           3425    -118.43     34.28                30.0       1384.0   \n",
       "4          18796    -122.31     40.89                18.0        754.0   \n",
       "...          ...        ...       ...                 ...          ...   \n",
       "4123        3191    -119.81     36.28                24.0        544.0   \n",
       "4124       18379    -121.87     37.22                26.0       1921.0   \n",
       "4125       11820    -121.08     38.95                18.0       1931.0   \n",
       "4126       15695    -122.45     37.79                52.0       3069.0   \n",
       "4127       12513    -121.46     38.56                52.0       1878.0   \n",
       "\n",
       "      total_bedrooms  population  households  median_income  \\\n",
       "0              679.0      1533.0       594.0         2.5806   \n",
       "1              711.0      2711.0       762.0         5.7021   \n",
       "2              323.0      1098.0       297.0         1.5109   \n",
       "3              308.0      2054.0       301.0         3.0132   \n",
       "4              161.0       247.0       107.0         2.2583   \n",
       "...              ...         ...         ...            ...   \n",
       "4123           112.0       442.0       106.0         3.1071   \n",
       "4124           250.0       725.0       253.0         7.6933   \n",
       "4125           380.0      1271.0       377.0         2.7463   \n",
       "4126           579.0      1107.0       536.0         5.5634   \n",
       "4127           393.0       722.0       381.0         3.3348   \n",
       "\n",
       "      median_house_value ocean_proximity  \n",
       "0               234100.0       <1H OCEAN  \n",
       "1               193100.0          INLAND  \n",
       "2               104000.0       <1H OCEAN  \n",
       "3               142600.0       <1H OCEAN  \n",
       "4                78800.0          INLAND  \n",
       "...                  ...             ...  \n",
       "4123             56100.0          INLAND  \n",
       "4124            405900.0       <1H OCEAN  \n",
       "4125            156100.0          INLAND  \n",
       "4126            500001.0        NEAR BAY  \n",
       "4127            122800.0          INLAND  \n",
       "\n",
       "[4128 rows x 11 columns]"
      ]
     },
     "execution_count": 31,
     "metadata": {},
     "output_type": "execute_result"
    }
   ],
   "source": [
    "test_df = pd.read_csv(test_file_path)\n",
    "test_df"
   ]
  },
  {
   "cell_type": "code",
   "execution_count": 32,
   "metadata": {},
   "outputs": [
    {
     "ename": "NameError",
     "evalue": "name 'np' is not defined",
     "output_type": "error",
     "traceback": [
      "\u001b[1;31m---------------------------------------------------------------------------\u001b[0m",
      "\u001b[1;31mNameError\u001b[0m                                 Traceback (most recent call last)",
      "\u001b[1;32m~\\AppData\\Local\\Temp\\ipykernel_21168\\3104407987.py\u001b[0m in \u001b[0;36m<module>\u001b[1;34m\u001b[0m\n\u001b[0;32m      1\u001b[0m \u001b[0my_test\u001b[0m \u001b[1;33m=\u001b[0m \u001b[0mtest_df\u001b[0m\u001b[1;33m[\u001b[0m\u001b[1;34m'median_house_value'\u001b[0m\u001b[1;33m]\u001b[0m\u001b[1;33m\u001b[0m\u001b[0m\n\u001b[1;32m----> 2\u001b[1;33m \u001b[0my_test\u001b[0m \u001b[1;33m=\u001b[0m \u001b[0mnp\u001b[0m\u001b[1;33m.\u001b[0m\u001b[0marray\u001b[0m\u001b[1;33m(\u001b[0m\u001b[0my_test\u001b[0m\u001b[1;33m)\u001b[0m\u001b[1;33m\u001b[0m\u001b[0m\n\u001b[0m\u001b[0;32m      3\u001b[0m \u001b[0my_test\u001b[0m\u001b[1;33m\u001b[0m\u001b[0m\n",
      "\u001b[1;31mNameError\u001b[0m: name 'np' is not defined"
     ]
    }
   ],
   "source": [
    "y_test = test_df['median_house_value']\n",
    "y_test = np.array(y_test)\n",
    "y_test"
   ]
  },
  {
   "cell_type": "code",
   "execution_count": null,
   "metadata": {},
   "outputs": [],
   "source": [
    "X_test = preprocessing.transform(test_df)"
   ]
  },
  {
   "cell_type": "code",
   "execution_count": null,
   "metadata": {},
   "outputs": [],
   "source": [
    "import dill"
   ]
  },
  {
   "cell_type": "code",
   "execution_count": null,
   "metadata": {},
   "outputs": [],
   "source": [
    "with open('preprocessing.pkl','wb') as preprocessing_file:\n",
    "    dill.dump(preprocessing,preprocessing_file)"
   ]
  },
  {
   "cell_type": "code",
   "execution_count": null,
   "metadata": {},
   "outputs": [],
   "source": [
    "with open('preprocessing.pkl','rb') as obj_file:\n",
    "    load_file = dill.load(obj_file)"
   ]
  },
  {
   "cell_type": "code",
   "execution_count": null,
   "metadata": {},
   "outputs": [
    {
     "data": {
      "text/plain": [
       "ColumnTransformer(transformers=[('numerical_pipeline',\n",
       "                                 Pipeline(steps=[('imputer',\n",
       "                                                  SimpleImputer(strategy='median')),\n",
       "                                                 ('scaling',\n",
       "                                                  StandardScaler())]),\n",
       "                                 ['longitude', 'latitude', 'housing_median_age',\n",
       "                                  'total_rooms', 'total_bedrooms', 'population',\n",
       "                                  'households', 'median_income']),\n",
       "                                ('categorical_pipeline',\n",
       "                                 Pipeline(steps=[('imputer',\n",
       "                                                  SimpleImputer(strategy='most_frequent')),\n",
       "                                                 ('oneHotEncoder',\n",
       "                                                  OneHotEncoder())]),\n",
       "                                 ['ocean_proximity'])])"
      ]
     },
     "execution_count": 122,
     "metadata": {},
     "output_type": "execute_result"
    }
   ],
   "source": [
    "load_file"
   ]
  },
  {
   "cell_type": "code",
   "execution_count": null,
   "metadata": {},
   "outputs": [
    {
     "data": {
      "text/plain": [
       "array([[ 0.61045594, -0.74166974,  1.46476216, ...,  0.        ,\n",
       "         0.        ,  0.        ],\n",
       "       [ 0.93575279, -0.76505424, -1.08403282, ...,  0.        ,\n",
       "         0.        ,  0.        ],\n",
       "       [ 0.6454879 , -0.76973114,  0.74791357, ...,  0.        ,\n",
       "         0.        ,  0.        ],\n",
       "       ...,\n",
       "       [-0.75579084,  1.55001166, -0.84508329, ...,  0.        ,\n",
       "         0.        ,  0.        ],\n",
       "       [-1.44141651,  1.00749116,  1.86301137, ...,  0.        ,\n",
       "         1.        ,  0.        ],\n",
       "       [-0.94596438,  1.36761252,  1.86301137, ...,  0.        ,\n",
       "         0.        ,  0.        ]])"
      ]
     },
     "execution_count": 123,
     "metadata": {},
     "output_type": "execute_result"
    }
   ],
   "source": [
    "load_file.transform(test_df)"
   ]
  },
  {
   "cell_type": "code",
   "execution_count": null,
   "metadata": {},
   "outputs": [],
   "source": [
    "from sklearn.linear_model import LinearRegression\n",
    "lr = LinearRegression() "
   ]
  },
  {
   "cell_type": "code",
   "execution_count": null,
   "metadata": {},
   "outputs": [
    {
     "data": {
      "text/plain": [
       "array([[ 0.31018192, -0.14770334,  0.03106498, ...,  0.        ,\n",
       "         0.        ,  0.        ],\n",
       "       [-1.19619273,  0.99346046, -1.64158172, ...,  0.        ,\n",
       "         0.        ,  0.        ],\n",
       "       [ 1.30108617, -1.17194461, -1.48228204, ...,  0.        ,\n",
       "         0.        ,  0.        ],\n",
       "       ...,\n",
       "       [-0.44050312, -0.43299429, -0.60613376, ...,  0.        ,\n",
       "         0.        ,  1.        ],\n",
       "       [ 0.85067515, -0.69957763,  0.11071483, ...,  0.        ,\n",
       "         0.        ,  0.        ],\n",
       "       [ 0.80563405, -0.77440804, -0.28753439, ...,  0.        ,\n",
       "         0.        ,  0.        ]])"
      ]
     },
     "execution_count": 125,
     "metadata": {},
     "output_type": "execute_result"
    }
   ],
   "source": [
    "X = train_df \n",
    "X"
   ]
  },
  {
   "cell_type": "code",
   "execution_count": null,
   "metadata": {},
   "outputs": [],
   "source": [
    "import numpy as np "
   ]
  },
  {
   "cell_type": "code",
   "execution_count": null,
   "metadata": {},
   "outputs": [
    {
     "data": {
      "text/plain": [
       "array([ 78700., 425100., 287500., ..., 249300., 209200., 302200.])"
      ]
     },
     "execution_count": 127,
     "metadata": {},
     "output_type": "execute_result"
    }
   ],
   "source": [
    "y = df['median_house_value']\n",
    "y = np.array(y)\n",
    "y"
   ]
  },
  {
   "cell_type": "code",
   "execution_count": null,
   "metadata": {},
   "outputs": [
    {
     "data": {
      "text/plain": [
       "LinearRegression()"
      ]
     },
     "execution_count": 128,
     "metadata": {},
     "output_type": "execute_result"
    }
   ],
   "source": [
    "lr.fit(X,y)"
   ]
  },
  {
   "cell_type": "code",
   "execution_count": null,
   "metadata": {},
   "outputs": [
    {
     "data": {
      "text/plain": [
       "array([131015.19606621, 412553.04501259, 309773.89244872, ...,\n",
       "       363766.91062064, 157045.72236365, 275088.68791376])"
      ]
     },
     "execution_count": 129,
     "metadata": {},
     "output_type": "execute_result"
    }
   ],
   "source": [
    "y_pred = lr.predict(X)\n",
    "y_pred"
   ]
  },
  {
   "cell_type": "code",
   "execution_count": null,
   "metadata": {},
   "outputs": [
    {
     "data": {
      "text/plain": [
       "[<matplotlib.lines.Line2D at 0x1eb8047ccc0>]"
      ]
     },
     "execution_count": 130,
     "metadata": {},
     "output_type": "execute_result"
    },
    {
     "data": {
      "image/png": "[encoded data removed]",
      "text/plain": [
       "<Figure size 640x480 with 1 Axes>"
      ]
     },
     "metadata": {},
     "output_type": "display_data"
    }
   ],
   "source": [
    "import matplotlib.pyplot as plt \n",
    "\n",
    "plt.plot(y,y_pred,'o')"
   ]
  },
  {
   "cell_type": "code",
   "execution_count": null,
   "metadata": {},
   "outputs": [],
   "source": [
    "from sklearn.metrics import r2_score "
   ]
  },
  {
   "cell_type": "code",
   "execution_count": null,
   "metadata": {},
   "outputs": [
    {
     "data": {
      "text/plain": [
       "0.6434895514900794"
      ]
     },
     "execution_count": 132,
     "metadata": {},
     "output_type": "execute_result"
    }
   ],
   "source": [
    "r2_score(y,y_pred)"
   ]
  },
  {
   "cell_type": "code",
   "execution_count": null,
   "metadata": {},
   "outputs": [
    {
     "data": {
      "text/plain": [
       "array([208958.20567782, 199586.71386877, 133002.83826447, ...,\n",
       "        70064.35677268, 343417.81211753, 171476.73017028])"
      ]
     },
     "execution_count": 135,
     "metadata": {},
     "output_type": "execute_result"
    }
   ],
   "source": [
    "y_test_pred = lr.predict(X_test)\n",
    "y_test_pred"
   ]
  },
  {
   "cell_type": "code",
   "execution_count": null,
   "metadata": {},
   "outputs": [
    {
     "data": {
      "text/plain": [
       "0.44923213303738607"
      ]
     },
     "execution_count": 136,
     "metadata": {},
     "output_type": "execute_result"
    }
   ],
   "source": [
    "r2_score(y_test_pred, y_test)"
   ]
  },
  {
   "cell_type": "code",
   "execution_count": null,
   "metadata": {},
   "outputs": [],
   "source": [
    "from housing.util.util import read_yaml_file"
   ]
  },
  {
   "cell_type": "code",
   "execution_count": null,
   "metadata": {},
   "outputs": [
    {
     "data": {
      "text/plain": [
       "{'columns': {'longitude': 'float',\n",
       "  'latitude': 'float',\n",
       "  'housing_median_age': 'float',\n",
       "  'total_rooms': 'float',\n",
       "  'total_bedrooms': 'float',\n",
       "  'population': 'float',\n",
       "  'households': 'float',\n",
       "  'median_income': 'float',\n",
       "  'median_house_value': 'float',\n",
       "  'ocean_proximity': 'category'},\n",
       " 'numerical_columns': ['longitude',\n",
       "  'latitude',\n",
       "  'housing_median_age',\n",
       "  'total_rooms',\n",
       "  'total_bedrooms',\n",
       "  'population',\n",
       "  'households',\n",
       "  'median_income'],\n",
       " 'categorical_columns': ['ocean_proximity'],\n",
       " 'target_column': 'median_house_value',\n",
       " 'domain_value': {'ocean_proximity': ['<1H OCEAN',\n",
       "   'INLAND',\n",
       "   'ISLAND',\n",
       "   'NEAR BAY',\n",
       "   'NEAR OCEAN']}}"
      ]
     },
     "execution_count": 138,
     "metadata": {},
     "output_type": "execute_result"
    }
   ],
   "source": [
    "schema = r'D:\\iNeuron\\Complete Project\\CI-CD Pipeline\\machine_learning_project\\config\\schema.yaml'\n",
    "read_yaml_file(schema)"
   ]
  },
  {
   "cell_type": "code",
   "execution_count": 53,
   "metadata": {},
   "outputs": [],
   "source": [
    "from housing.util.util import read_yaml_file"
   ]
  },
  {
   "cell_type": "code",
   "execution_count": 58,
   "metadata": {},
   "outputs": [
    {
     "data": {
      "text/plain": [
       "['longitude',\n",
       " 'latitude',\n",
       " 'housing_median_age',\n",
       " 'total_rooms',\n",
       " 'total_bedrooms',\n",
       " 'population',\n",
       " 'households',\n",
       " 'median_income']"
      ]
     },
     "execution_count": 58,
     "metadata": {},
     "output_type": "execute_result"
    }
   ],
   "source": [
    "file= r'D:\\iNeuron\\Complete Project\\CI-CD Pipeline\\machine_learning_project\\config\\schema.yaml'\n",
    "read_yaml_file(file)['numerical_columns']"
   ]
  },
  {
   "cell_type": "code",
   "execution_count": 59,
   "metadata": {},
   "outputs": [],
   "source": [
    "numerical_columns = read_yaml_file(file)['numerical_columns']"
   ]
  },
  {
   "cell_type": "code",
   "execution_count": 68,
   "metadata": {},
   "outputs": [],
   "source": [
    "schema_file_path = r'D:\\iNeuron\\Complete Project\\CI-CD Pipeline\\machine_learning_project\\config\\schema.yaml'"
   ]
  },
  {
   "cell_type": "code",
   "execution_count": 69,
   "metadata": {},
   "outputs": [
    {
     "data": {
      "text/plain": [
       "['longitude',\n",
       " 'latitude',\n",
       " 'housing_median_age',\n",
       " 'total_rooms',\n",
       " 'total_bedrooms',\n",
       " 'population',\n",
       " 'households',\n",
       " 'median_income']"
      ]
     },
     "execution_count": 69,
     "metadata": {},
     "output_type": "execute_result"
    }
   ],
   "source": [
    "read_yaml_file(schema_file_path)['numerical_columns']"
   ]
  },
  {
   "cell_type": "code",
   "execution_count": 70,
   "metadata": {},
   "outputs": [
    {
     "data": {
      "text/plain": [
       "['ocean_proximity']"
      ]
     },
     "execution_count": 70,
     "metadata": {},
     "output_type": "execute_result"
    }
   ],
   "source": [
    "read_yaml_file(schema_file_path)['categorical_columns']"
   ]
  },
  {
   "cell_type": "code",
   "execution_count": null,
   "metadata": {},
   "outputs": [],
   "source": []
  }
 ],
 "metadata": {
  "kernelspec": {
   "display_name": "Python 3.7.0 (conda)",
   "language": "python",
   "name": "python3"
  },
  "language_info": {
   "codemirror_mode": {
    "name": "ipython",
    "version": 3
   },
   "file_extension": ".py",
   "mimetype": "text/x-python",
   "name": "python",
   "nbconvert_exporter": "python",
   "pygments_lexer": "ipython3",
   "version": "3.7.0"
  },
  "orig_nbformat": 4,
  "vscode": {
   "interpreter": {
    "hash": "126f42762e5af1c1e0fcf0920dd5395f1ec4e6b64558b741fb680b4506e1e2d6"
   }
  }
 },
 "nbformat": 4,
 "nbformat_minor": 2
}
